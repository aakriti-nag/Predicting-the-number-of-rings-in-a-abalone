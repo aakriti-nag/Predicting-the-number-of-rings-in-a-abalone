{
 "cells": [
  {
   "cell_type": "markdown",
   "metadata": {},
   "source": [
    "### Import Libraries"
   ]
  },
  {
   "cell_type": "code",
   "execution_count": 2,
   "metadata": {
    "execution": {
     "iopub.execute_input": "2024-04-12T00:57:24.642301Z",
     "iopub.status.busy": "2024-04-12T00:57:24.641587Z",
     "iopub.status.idle": "2024-04-12T00:57:24.649147Z",
     "shell.execute_reply": "2024-04-12T00:57:24.648270Z",
     "shell.execute_reply.started": "2024-04-12T00:57:24.642264Z"
    }
   },
   "outputs": [],
   "source": [
    "import pandas as pd\n",
    "import numpy as np\n",
    "import matplotlib.pyplot as plt\n",
    "import seaborn as sns\n",
    "import xgboost as xgb\n",
    "from sklearn.svm import SVR\n",
    "from xgboost import XGBRegressor\n",
    "from sklearn.preprocessing import LabelEncoder, StandardScaler\n",
    "from sklearn.linear_model import LogisticRegression, LinearRegression\n",
    "from sklearn.model_selection import train_test_split, cross_val_score\n",
    "from sklearn.ensemble import RandomForestRegressor\n",
    "from sklearn.tree import DecisionTreeRegressor\n",
    "from sklearn.metrics import mean_squared_log_error    \n",
    "\n",
    "\n",
    "import warnings\n",
    "warnings.filterwarnings(\"ignore\")"
   ]
  },
  {
   "cell_type": "code",
   "execution_count": 3,
   "metadata": {
    "execution": {
     "iopub.execute_input": "2024-04-12T00:57:24.652011Z",
     "iopub.status.busy": "2024-04-12T00:57:24.651489Z",
     "iopub.status.idle": "2024-04-12T00:57:24.796172Z",
     "shell.execute_reply": "2024-04-12T00:57:24.795246Z",
     "shell.execute_reply.started": "2024-04-12T00:57:24.651974Z"
    }
   },
   "outputs": [],
   "source": [
    "train_df = pd.read_csv('train.csv', index_col='id')\n",
    "test_df = pd.read_csv('test.csv', index_col='id')\n"
   ]
  },
  {
   "cell_type": "code",
   "execution_count": 4,
   "metadata": {
    "execution": {
     "iopub.execute_input": "2024-04-12T00:57:24.798786Z",
     "iopub.status.busy": "2024-04-12T00:57:24.798125Z",
     "iopub.status.idle": "2024-04-12T00:57:24.816858Z",
     "shell.execute_reply": "2024-04-12T00:57:24.815765Z",
     "shell.execute_reply.started": "2024-04-12T00:57:24.798758Z"
    }
   },
   "outputs": [
    {
     "data": {
      "text/html": [
       "<div>\n",
       "<style scoped>\n",
       "    .dataframe tbody tr th:only-of-type {\n",
       "        vertical-align: middle;\n",
       "    }\n",
       "\n",
       "    .dataframe tbody tr th {\n",
       "        vertical-align: top;\n",
       "    }\n",
       "\n",
       "    .dataframe thead th {\n",
       "        text-align: right;\n",
       "    }\n",
       "</style>\n",
       "<table border=\"1\" class=\"dataframe\">\n",
       "  <thead>\n",
       "    <tr style=\"text-align: right;\">\n",
       "      <th></th>\n",
       "      <th>Sex</th>\n",
       "      <th>Length</th>\n",
       "      <th>Diameter</th>\n",
       "      <th>Height</th>\n",
       "      <th>Whole weight</th>\n",
       "      <th>Whole weight.1</th>\n",
       "      <th>Whole weight.2</th>\n",
       "      <th>Shell weight</th>\n",
       "      <th>Rings</th>\n",
       "    </tr>\n",
       "    <tr>\n",
       "      <th>id</th>\n",
       "      <th></th>\n",
       "      <th></th>\n",
       "      <th></th>\n",
       "      <th></th>\n",
       "      <th></th>\n",
       "      <th></th>\n",
       "      <th></th>\n",
       "      <th></th>\n",
       "      <th></th>\n",
       "    </tr>\n",
       "  </thead>\n",
       "  <tbody>\n",
       "    <tr>\n",
       "      <th>0</th>\n",
       "      <td>F</td>\n",
       "      <td>0.550</td>\n",
       "      <td>0.430</td>\n",
       "      <td>0.150</td>\n",
       "      <td>0.7715</td>\n",
       "      <td>0.3285</td>\n",
       "      <td>0.1465</td>\n",
       "      <td>0.2400</td>\n",
       "      <td>11</td>\n",
       "    </tr>\n",
       "    <tr>\n",
       "      <th>1</th>\n",
       "      <td>F</td>\n",
       "      <td>0.630</td>\n",
       "      <td>0.490</td>\n",
       "      <td>0.145</td>\n",
       "      <td>1.1300</td>\n",
       "      <td>0.4580</td>\n",
       "      <td>0.2765</td>\n",
       "      <td>0.3200</td>\n",
       "      <td>11</td>\n",
       "    </tr>\n",
       "    <tr>\n",
       "      <th>2</th>\n",
       "      <td>I</td>\n",
       "      <td>0.160</td>\n",
       "      <td>0.110</td>\n",
       "      <td>0.025</td>\n",
       "      <td>0.0210</td>\n",
       "      <td>0.0055</td>\n",
       "      <td>0.0030</td>\n",
       "      <td>0.0050</td>\n",
       "      <td>6</td>\n",
       "    </tr>\n",
       "    <tr>\n",
       "      <th>3</th>\n",
       "      <td>M</td>\n",
       "      <td>0.595</td>\n",
       "      <td>0.475</td>\n",
       "      <td>0.150</td>\n",
       "      <td>0.9145</td>\n",
       "      <td>0.3755</td>\n",
       "      <td>0.2055</td>\n",
       "      <td>0.2500</td>\n",
       "      <td>10</td>\n",
       "    </tr>\n",
       "    <tr>\n",
       "      <th>4</th>\n",
       "      <td>I</td>\n",
       "      <td>0.555</td>\n",
       "      <td>0.425</td>\n",
       "      <td>0.130</td>\n",
       "      <td>0.7820</td>\n",
       "      <td>0.3695</td>\n",
       "      <td>0.1600</td>\n",
       "      <td>0.1975</td>\n",
       "      <td>9</td>\n",
       "    </tr>\n",
       "    <tr>\n",
       "      <th>...</th>\n",
       "      <td>...</td>\n",
       "      <td>...</td>\n",
       "      <td>...</td>\n",
       "      <td>...</td>\n",
       "      <td>...</td>\n",
       "      <td>...</td>\n",
       "      <td>...</td>\n",
       "      <td>...</td>\n",
       "      <td>...</td>\n",
       "    </tr>\n",
       "    <tr>\n",
       "      <th>90610</th>\n",
       "      <td>M</td>\n",
       "      <td>0.335</td>\n",
       "      <td>0.235</td>\n",
       "      <td>0.075</td>\n",
       "      <td>0.1585</td>\n",
       "      <td>0.0685</td>\n",
       "      <td>0.0370</td>\n",
       "      <td>0.0450</td>\n",
       "      <td>6</td>\n",
       "    </tr>\n",
       "    <tr>\n",
       "      <th>90611</th>\n",
       "      <td>M</td>\n",
       "      <td>0.555</td>\n",
       "      <td>0.425</td>\n",
       "      <td>0.150</td>\n",
       "      <td>0.8790</td>\n",
       "      <td>0.3865</td>\n",
       "      <td>0.1815</td>\n",
       "      <td>0.2400</td>\n",
       "      <td>9</td>\n",
       "    </tr>\n",
       "    <tr>\n",
       "      <th>90612</th>\n",
       "      <td>I</td>\n",
       "      <td>0.435</td>\n",
       "      <td>0.330</td>\n",
       "      <td>0.095</td>\n",
       "      <td>0.3215</td>\n",
       "      <td>0.1510</td>\n",
       "      <td>0.0785</td>\n",
       "      <td>0.0815</td>\n",
       "      <td>6</td>\n",
       "    </tr>\n",
       "    <tr>\n",
       "      <th>90613</th>\n",
       "      <td>I</td>\n",
       "      <td>0.345</td>\n",
       "      <td>0.270</td>\n",
       "      <td>0.075</td>\n",
       "      <td>0.2000</td>\n",
       "      <td>0.0980</td>\n",
       "      <td>0.0490</td>\n",
       "      <td>0.0700</td>\n",
       "      <td>6</td>\n",
       "    </tr>\n",
       "    <tr>\n",
       "      <th>90614</th>\n",
       "      <td>I</td>\n",
       "      <td>0.425</td>\n",
       "      <td>0.325</td>\n",
       "      <td>0.100</td>\n",
       "      <td>0.3455</td>\n",
       "      <td>0.1525</td>\n",
       "      <td>0.0785</td>\n",
       "      <td>0.1050</td>\n",
       "      <td>8</td>\n",
       "    </tr>\n",
       "  </tbody>\n",
       "</table>\n",
       "<p>90615 rows × 9 columns</p>\n",
       "</div>"
      ],
      "text/plain": [
       "      Sex  Length  Diameter  Height  Whole weight  Whole weight.1  \\\n",
       "id                                                                  \n",
       "0       F   0.550     0.430   0.150        0.7715          0.3285   \n",
       "1       F   0.630     0.490   0.145        1.1300          0.4580   \n",
       "2       I   0.160     0.110   0.025        0.0210          0.0055   \n",
       "3       M   0.595     0.475   0.150        0.9145          0.3755   \n",
       "4       I   0.555     0.425   0.130        0.7820          0.3695   \n",
       "...    ..     ...       ...     ...           ...             ...   \n",
       "90610   M   0.335     0.235   0.075        0.1585          0.0685   \n",
       "90611   M   0.555     0.425   0.150        0.8790          0.3865   \n",
       "90612   I   0.435     0.330   0.095        0.3215          0.1510   \n",
       "90613   I   0.345     0.270   0.075        0.2000          0.0980   \n",
       "90614   I   0.425     0.325   0.100        0.3455          0.1525   \n",
       "\n",
       "       Whole weight.2  Shell weight  Rings  \n",
       "id                                          \n",
       "0              0.1465        0.2400     11  \n",
       "1              0.2765        0.3200     11  \n",
       "2              0.0030        0.0050      6  \n",
       "3              0.2055        0.2500     10  \n",
       "4              0.1600        0.1975      9  \n",
       "...               ...           ...    ...  \n",
       "90610          0.0370        0.0450      6  \n",
       "90611          0.1815        0.2400      9  \n",
       "90612          0.0785        0.0815      6  \n",
       "90613          0.0490        0.0700      6  \n",
       "90614          0.0785        0.1050      8  \n",
       "\n",
       "[90615 rows x 9 columns]"
      ]
     },
     "execution_count": 4,
     "metadata": {},
     "output_type": "execute_result"
    }
   ],
   "source": [
    "train_df"
   ]
  },
  {
   "cell_type": "code",
   "execution_count": 5,
   "metadata": {
    "execution": {
     "iopub.execute_input": "2024-04-12T00:57:24.818666Z",
     "iopub.status.busy": "2024-04-12T00:57:24.817986Z",
     "iopub.status.idle": "2024-04-12T00:57:24.828810Z",
     "shell.execute_reply": "2024-04-12T00:57:24.827932Z",
     "shell.execute_reply.started": "2024-04-12T00:57:24.818631Z"
    }
   },
   "outputs": [],
   "source": [
    "# Make different lists for numeric, categorical, and target variables\n",
    "numeric = list(train_df._get_numeric_data())\n",
    "categ = list(train_df.drop(numeric, axis = 1))\n",
    "target='Rings'\n",
    "numeric.remove(target)"
   ]
  },
  {
   "cell_type": "code",
   "execution_count": 6,
   "metadata": {
    "execution": {
     "iopub.execute_input": "2024-04-12T00:57:24.832152Z",
     "iopub.status.busy": "2024-04-12T00:57:24.831614Z",
     "iopub.status.idle": "2024-04-12T00:57:26.366522Z",
     "shell.execute_reply": "2024-04-12T00:57:26.365394Z",
     "shell.execute_reply.started": "2024-04-12T00:57:24.832088Z"
    }
   },
   "outputs": [
    {
     "data": {
      "image/png": "[encoded data removed]",
      "text/plain": [
       "<Figure size 864x576 with 9 Axes>"
      ]
     },
     "metadata": {
      "needs_background": "light"
     },
     "output_type": "display_data"
    }
   ],
   "source": [
    "# Check the distribution for each column\n",
    "train_df[numeric].hist(bins=50, figsize=(12,8))\n",
    "plt.show()"
   ]
  },
  {
   "cell_type": "code",
   "execution_count": 7,
   "metadata": {
    "execution": {
     "iopub.execute_input": "2024-04-12T00:57:26.368154Z",
     "iopub.status.busy": "2024-04-12T00:57:26.367777Z",
     "iopub.status.idle": "2024-04-12T00:57:26.381578Z",
     "shell.execute_reply": "2024-04-12T00:57:26.380503Z",
     "shell.execute_reply.started": "2024-04-12T00:57:26.368123Z"
    }
   },
   "outputs": [
    {
     "data": {
      "text/plain": [
       "Sex               0\n",
       "Length            0\n",
       "Diameter          0\n",
       "Height            0\n",
       "Whole weight      0\n",
       "Whole weight.1    0\n",
       "Whole weight.2    0\n",
       "Shell weight      0\n",
       "Rings             0\n",
       "dtype: int64"
      ]
     },
     "execution_count": 7,
     "metadata": {},
     "output_type": "execute_result"
    }
   ],
   "source": [
    "#no null columns\n",
    "train_df.isna().sum()"
   ]
  },
  {
   "cell_type": "code",
   "execution_count": 8,
   "metadata": {
    "execution": {
     "iopub.execute_input": "2024-04-12T00:57:26.383155Z",
     "iopub.status.busy": "2024-04-12T00:57:26.382776Z",
     "iopub.status.idle": "2024-04-12T00:57:26.390378Z",
     "shell.execute_reply": "2024-04-12T00:57:26.389335Z",
     "shell.execute_reply.started": "2024-04-12T00:57:26.383119Z"
    }
   },
   "outputs": [
    {
     "data": {
      "text/plain": [
       "Sex                object\n",
       "Length            float64\n",
       "Diameter          float64\n",
       "Height            float64\n",
       "Whole weight      float64\n",
       "Whole weight.1    float64\n",
       "Whole weight.2    float64\n",
       "Shell weight      float64\n",
       "Rings               int64\n",
       "dtype: object"
      ]
     },
     "execution_count": 8,
     "metadata": {},
     "output_type": "execute_result"
    }
   ],
   "source": [
    "#only one object column which is sex can be converted to numerical\n",
    "train_df.dtypes "
   ]
  },
  {
   "cell_type": "code",
   "execution_count": 9,
   "metadata": {
    "execution": {
     "iopub.execute_input": "2024-04-12T00:57:26.392257Z",
     "iopub.status.busy": "2024-04-12T00:57:26.391957Z",
     "iopub.status.idle": "2024-04-12T00:57:26.625528Z",
     "shell.execute_reply": "2024-04-12T00:57:26.624491Z",
     "shell.execute_reply.started": "2024-04-12T00:57:26.392215Z"
    }
   },
   "outputs": [
    {
     "data": {
      "image/png": "[encoded data removed]",
      "text/plain": [
       "<Figure size 576x432 with 1 Axes>"
      ]
     },
     "metadata": {
      "needs_background": "light"
     },
     "output_type": "display_data"
    }
   ],
   "source": [
    "# three categories\n",
    "sex_counts = train_df['Sex'].value_counts() \n",
    "\n",
    "plt.figure(figsize=(8, 6))\n",
    "sex_counts.plot(kind='bar')\n",
    "plt.title('Count of Each Sex Category')\n",
    "plt.xlabel('Sex')\n",
    "plt.ylabel('Count')\n",
    "plt.show()"
   ]
  },
  {
   "cell_type": "code",
   "execution_count": 10,
   "metadata": {
    "execution": {
     "iopub.execute_input": "2024-04-12T00:57:26.626892Z",
     "iopub.status.busy": "2024-04-12T00:57:26.626619Z",
     "iopub.status.idle": "2024-04-12T00:57:27.006942Z",
     "shell.execute_reply": "2024-04-12T00:57:27.005876Z",
     "shell.execute_reply.started": "2024-04-12T00:57:26.626869Z"
    }
   },
   "outputs": [
    {
     "data": {
      "image/png": "[encoded data removed]",
      "text/plain": [
       "<Figure size 576x432 with 1 Axes>"
      ]
     },
     "metadata": {
      "needs_background": "light"
     },
     "output_type": "display_data"
    }
   ],
   "source": [
    "#Distribution of the target variable\n",
    "ring_counts = train_df['Rings'].value_counts(ascending=False) \n",
    "\n",
    "plt.figure(figsize=(8, 6))\n",
    "ring_counts.plot(kind='bar')\n",
    "plt.title('Count of Each Sex Category')\n",
    "plt.xlabel('Rings')\n",
    "plt.ylabel('Count')\n",
    "plt.show()"
   ]
  },
  {
   "cell_type": "code",
   "execution_count": 11,
   "metadata": {
    "execution": {
     "iopub.execute_input": "2024-04-12T00:57:27.008389Z",
     "iopub.status.busy": "2024-04-12T00:57:27.008089Z",
     "iopub.status.idle": "2024-04-12T00:57:27.032941Z",
     "shell.execute_reply": "2024-04-12T00:57:27.031685Z",
     "shell.execute_reply.started": "2024-04-12T00:57:27.008365Z"
    }
   },
   "outputs": [],
   "source": [
    "#Convert the categorical variables into numerical\n",
    "le = LabelEncoder()\n",
    "train_df['Sex'] = le.fit_transform(train_df['Sex'])\n",
    "\n",
    "train_df_numeric = train_df"
   ]
  },
  {
   "cell_type": "code",
   "execution_count": 12,
   "metadata": {
    "execution": {
     "iopub.execute_input": "2024-04-12T00:57:27.037415Z",
     "iopub.status.busy": "2024-04-12T00:57:27.037022Z",
     "iopub.status.idle": "2024-04-12T00:57:27.055102Z",
     "shell.execute_reply": "2024-04-12T00:57:27.054013Z",
     "shell.execute_reply.started": "2024-04-12T00:57:27.037384Z"
    }
   },
   "outputs": [
    {
     "data": {
      "text/html": [
       "<div>\n",
       "<style scoped>\n",
       "    .dataframe tbody tr th:only-of-type {\n",
       "        vertical-align: middle;\n",
       "    }\n",
       "\n",
       "    .dataframe tbody tr th {\n",
       "        vertical-align: top;\n",
       "    }\n",
       "\n",
       "    .dataframe thead th {\n",
       "        text-align: right;\n",
       "    }\n",
       "</style>\n",
       "<table border=\"1\" class=\"dataframe\">\n",
       "  <thead>\n",
       "    <tr style=\"text-align: right;\">\n",
       "      <th></th>\n",
       "      <th>Sex</th>\n",
       "      <th>Length</th>\n",
       "      <th>Diameter</th>\n",
       "      <th>Height</th>\n",
       "      <th>Whole weight</th>\n",
       "      <th>Whole weight.1</th>\n",
       "      <th>Whole weight.2</th>\n",
       "      <th>Shell weight</th>\n",
       "      <th>Rings</th>\n",
       "    </tr>\n",
       "    <tr>\n",
       "      <th>id</th>\n",
       "      <th></th>\n",
       "      <th></th>\n",
       "      <th></th>\n",
       "      <th></th>\n",
       "      <th></th>\n",
       "      <th></th>\n",
       "      <th></th>\n",
       "      <th></th>\n",
       "      <th></th>\n",
       "    </tr>\n",
       "  </thead>\n",
       "  <tbody>\n",
       "    <tr>\n",
       "      <th>0</th>\n",
       "      <td>0</td>\n",
       "      <td>0.550</td>\n",
       "      <td>0.430</td>\n",
       "      <td>0.150</td>\n",
       "      <td>0.7715</td>\n",
       "      <td>0.3285</td>\n",
       "      <td>0.1465</td>\n",
       "      <td>0.2400</td>\n",
       "      <td>11</td>\n",
       "    </tr>\n",
       "    <tr>\n",
       "      <th>1</th>\n",
       "      <td>0</td>\n",
       "      <td>0.630</td>\n",
       "      <td>0.490</td>\n",
       "      <td>0.145</td>\n",
       "      <td>1.1300</td>\n",
       "      <td>0.4580</td>\n",
       "      <td>0.2765</td>\n",
       "      <td>0.3200</td>\n",
       "      <td>11</td>\n",
       "    </tr>\n",
       "    <tr>\n",
       "      <th>2</th>\n",
       "      <td>1</td>\n",
       "      <td>0.160</td>\n",
       "      <td>0.110</td>\n",
       "      <td>0.025</td>\n",
       "      <td>0.0210</td>\n",
       "      <td>0.0055</td>\n",
       "      <td>0.0030</td>\n",
       "      <td>0.0050</td>\n",
       "      <td>6</td>\n",
       "    </tr>\n",
       "    <tr>\n",
       "      <th>3</th>\n",
       "      <td>2</td>\n",
       "      <td>0.595</td>\n",
       "      <td>0.475</td>\n",
       "      <td>0.150</td>\n",
       "      <td>0.9145</td>\n",
       "      <td>0.3755</td>\n",
       "      <td>0.2055</td>\n",
       "      <td>0.2500</td>\n",
       "      <td>10</td>\n",
       "    </tr>\n",
       "    <tr>\n",
       "      <th>4</th>\n",
       "      <td>1</td>\n",
       "      <td>0.555</td>\n",
       "      <td>0.425</td>\n",
       "      <td>0.130</td>\n",
       "      <td>0.7820</td>\n",
       "      <td>0.3695</td>\n",
       "      <td>0.1600</td>\n",
       "      <td>0.1975</td>\n",
       "      <td>9</td>\n",
       "    </tr>\n",
       "    <tr>\n",
       "      <th>...</th>\n",
       "      <td>...</td>\n",
       "      <td>...</td>\n",
       "      <td>...</td>\n",
       "      <td>...</td>\n",
       "      <td>...</td>\n",
       "      <td>...</td>\n",
       "      <td>...</td>\n",
       "      <td>...</td>\n",
       "      <td>...</td>\n",
       "    </tr>\n",
       "    <tr>\n",
       "      <th>90610</th>\n",
       "      <td>2</td>\n",
       "      <td>0.335</td>\n",
       "      <td>0.235</td>\n",
       "      <td>0.075</td>\n",
       "      <td>0.1585</td>\n",
       "      <td>0.0685</td>\n",
       "      <td>0.0370</td>\n",
       "      <td>0.0450</td>\n",
       "      <td>6</td>\n",
       "    </tr>\n",
       "    <tr>\n",
       "      <th>90611</th>\n",
       "      <td>2</td>\n",
       "      <td>0.555</td>\n",
       "      <td>0.425</td>\n",
       "      <td>0.150</td>\n",
       "      <td>0.8790</td>\n",
       "      <td>0.3865</td>\n",
       "      <td>0.1815</td>\n",
       "      <td>0.2400</td>\n",
       "      <td>9</td>\n",
       "    </tr>\n",
       "    <tr>\n",
       "      <th>90612</th>\n",
       "      <td>1</td>\n",
       "      <td>0.435</td>\n",
       "      <td>0.330</td>\n",
       "      <td>0.095</td>\n",
       "      <td>0.3215</td>\n",
       "      <td>0.1510</td>\n",
       "      <td>0.0785</td>\n",
       "      <td>0.0815</td>\n",
       "      <td>6</td>\n",
       "    </tr>\n",
       "    <tr>\n",
       "      <th>90613</th>\n",
       "      <td>1</td>\n",
       "      <td>0.345</td>\n",
       "      <td>0.270</td>\n",
       "      <td>0.075</td>\n",
       "      <td>0.2000</td>\n",
       "      <td>0.0980</td>\n",
       "      <td>0.0490</td>\n",
       "      <td>0.0700</td>\n",
       "      <td>6</td>\n",
       "    </tr>\n",
       "    <tr>\n",
       "      <th>90614</th>\n",
       "      <td>1</td>\n",
       "      <td>0.425</td>\n",
       "      <td>0.325</td>\n",
       "      <td>0.100</td>\n",
       "      <td>0.3455</td>\n",
       "      <td>0.1525</td>\n",
       "      <td>0.0785</td>\n",
       "      <td>0.1050</td>\n",
       "      <td>8</td>\n",
       "    </tr>\n",
       "  </tbody>\n",
       "</table>\n",
       "<p>90615 rows × 9 columns</p>\n",
       "</div>"
      ],
      "text/plain": [
       "       Sex  Length  Diameter  Height  Whole weight  Whole weight.1  \\\n",
       "id                                                                   \n",
       "0        0   0.550     0.430   0.150        0.7715          0.3285   \n",
       "1        0   0.630     0.490   0.145        1.1300          0.4580   \n",
       "2        1   0.160     0.110   0.025        0.0210          0.0055   \n",
       "3        2   0.595     0.475   0.150        0.9145          0.3755   \n",
       "4        1   0.555     0.425   0.130        0.7820          0.3695   \n",
       "...    ...     ...       ...     ...           ...             ...   \n",
       "90610    2   0.335     0.235   0.075        0.1585          0.0685   \n",
       "90611    2   0.555     0.425   0.150        0.8790          0.3865   \n",
       "90612    1   0.435     0.330   0.095        0.3215          0.1510   \n",
       "90613    1   0.345     0.270   0.075        0.2000          0.0980   \n",
       "90614    1   0.425     0.325   0.100        0.3455          0.1525   \n",
       "\n",
       "       Whole weight.2  Shell weight  Rings  \n",
       "id                                          \n",
       "0              0.1465        0.2400     11  \n",
       "1              0.2765        0.3200     11  \n",
       "2              0.0030        0.0050      6  \n",
       "3              0.2055        0.2500     10  \n",
       "4              0.1600        0.1975      9  \n",
       "...               ...           ...    ...  \n",
       "90610          0.0370        0.0450      6  \n",
       "90611          0.1815        0.2400      9  \n",
       "90612          0.0785        0.0815      6  \n",
       "90613          0.0490        0.0700      6  \n",
       "90614          0.0785        0.1050      8  \n",
       "\n",
       "[90615 rows x 9 columns]"
      ]
     },
     "execution_count": 12,
     "metadata": {},
     "output_type": "execute_result"
    }
   ],
   "source": [
    "train_df_numeric"
   ]
  },
  {
   "cell_type": "code",
   "execution_count": 13,
   "metadata": {
    "execution": {
     "iopub.execute_input": "2024-04-12T01:14:43.151784Z",
     "iopub.status.busy": "2024-04-12T01:14:43.151145Z",
     "iopub.status.idle": "2024-04-12T01:14:43.665158Z",
     "shell.execute_reply": "2024-04-12T01:14:43.664402Z",
     "shell.execute_reply.started": "2024-04-12T01:14:43.151753Z"
    }
   },
   "outputs": [
    {
     "data": {
      "image/png": "[encoded data removed]",
      "text/plain": [
       "<Figure size 576x288 with 2 Axes>"
      ]
     },
     "metadata": {
      "needs_background": "light"
     },
     "output_type": "display_data"
    }
   ],
   "source": [
    "corr = train_df_numeric.corr()\n",
    "plt.figure(figsize=(8, 4))\n",
    "sns.heatmap(corr, annot=True, fmt=\"0.2f\")\n",
    "plt.title(\"Correlation matrix\")\n",
    "plt.show()"
   ]
  },
  {
   "cell_type": "code",
   "execution_count": 14,
   "metadata": {
    "execution": {
     "iopub.execute_input": "2024-04-12T00:57:27.056838Z",
     "iopub.status.busy": "2024-04-12T00:57:27.056514Z",
     "iopub.status.idle": "2024-04-12T00:57:27.068094Z",
     "shell.execute_reply": "2024-04-12T00:57:27.067038Z",
     "shell.execute_reply.started": "2024-04-12T00:57:27.056812Z"
    }
   },
   "outputs": [
    {
     "name": "stdout",
     "output_type": "stream",
     "text": [
      "Sex\n",
      "0    11.161389\n",
      "1     7.533557\n",
      "2    10.753408\n",
      "Name: Rings, dtype: float64\n"
     ]
    }
   ],
   "source": [
    "#CHecking if the sex column is important, and its distribution\n",
    "grouped_means = train_df_numeric.groupby('Sex')['Rings'].mean()\n",
    "\n",
    "print(grouped_means)"
   ]
  },
  {
   "cell_type": "code",
   "execution_count": 15,
   "metadata": {
    "execution": {
     "iopub.execute_input": "2024-04-12T00:57:27.070075Z",
     "iopub.status.busy": "2024-04-12T00:57:27.069505Z",
     "iopub.status.idle": "2024-04-12T00:57:27.284631Z",
     "shell.execute_reply": "2024-04-12T00:57:27.283626Z",
     "shell.execute_reply.started": "2024-04-12T00:57:27.070037Z"
    }
   },
   "outputs": [
    {
     "data": {
      "text/html": [
       "<div>\n",
       "<style scoped>\n",
       "    .dataframe tbody tr th:only-of-type {\n",
       "        vertical-align: middle;\n",
       "    }\n",
       "\n",
       "    .dataframe tbody tr th {\n",
       "        vertical-align: top;\n",
       "    }\n",
       "\n",
       "    .dataframe thead th {\n",
       "        text-align: right;\n",
       "    }\n",
       "</style>\n",
       "<table border=\"1\" class=\"dataframe\">\n",
       "  <thead>\n",
       "    <tr style=\"text-align: right;\">\n",
       "      <th></th>\n",
       "      <th>Sex</th>\n",
       "      <th>Length</th>\n",
       "      <th>Diameter</th>\n",
       "      <th>Height</th>\n",
       "      <th>Whole weight</th>\n",
       "      <th>Whole weight.1</th>\n",
       "      <th>Whole weight.2</th>\n",
       "      <th>Shell weight</th>\n",
       "      <th>Rings</th>\n",
       "    </tr>\n",
       "  </thead>\n",
       "  <tbody>\n",
       "    <tr>\n",
       "      <th>count</th>\n",
       "      <td>90615.000000</td>\n",
       "      <td>90615.000000</td>\n",
       "      <td>90615.000000</td>\n",
       "      <td>90615.000000</td>\n",
       "      <td>90615.000000</td>\n",
       "      <td>90615.000000</td>\n",
       "      <td>90615.000000</td>\n",
       "      <td>90615.000000</td>\n",
       "      <td>90615.000000</td>\n",
       "    </tr>\n",
       "    <tr>\n",
       "      <th>mean</th>\n",
       "      <td>1.050014</td>\n",
       "      <td>0.517098</td>\n",
       "      <td>0.401679</td>\n",
       "      <td>0.135464</td>\n",
       "      <td>0.789035</td>\n",
       "      <td>0.340778</td>\n",
       "      <td>0.169422</td>\n",
       "      <td>0.225898</td>\n",
       "      <td>9.696794</td>\n",
       "    </tr>\n",
       "    <tr>\n",
       "      <th>std</th>\n",
       "      <td>0.795174</td>\n",
       "      <td>0.118217</td>\n",
       "      <td>0.098026</td>\n",
       "      <td>0.038008</td>\n",
       "      <td>0.457671</td>\n",
       "      <td>0.204428</td>\n",
       "      <td>0.100909</td>\n",
       "      <td>0.130203</td>\n",
       "      <td>3.176221</td>\n",
       "    </tr>\n",
       "    <tr>\n",
       "      <th>min</th>\n",
       "      <td>0.000000</td>\n",
       "      <td>0.075000</td>\n",
       "      <td>0.055000</td>\n",
       "      <td>0.000000</td>\n",
       "      <td>0.002000</td>\n",
       "      <td>0.001000</td>\n",
       "      <td>0.000500</td>\n",
       "      <td>0.001500</td>\n",
       "      <td>1.000000</td>\n",
       "    </tr>\n",
       "    <tr>\n",
       "      <th>25%</th>\n",
       "      <td>0.000000</td>\n",
       "      <td>0.445000</td>\n",
       "      <td>0.345000</td>\n",
       "      <td>0.110000</td>\n",
       "      <td>0.419000</td>\n",
       "      <td>0.177500</td>\n",
       "      <td>0.086500</td>\n",
       "      <td>0.120000</td>\n",
       "      <td>8.000000</td>\n",
       "    </tr>\n",
       "    <tr>\n",
       "      <th>50%</th>\n",
       "      <td>1.000000</td>\n",
       "      <td>0.545000</td>\n",
       "      <td>0.425000</td>\n",
       "      <td>0.140000</td>\n",
       "      <td>0.799500</td>\n",
       "      <td>0.330000</td>\n",
       "      <td>0.166000</td>\n",
       "      <td>0.225000</td>\n",
       "      <td>9.000000</td>\n",
       "    </tr>\n",
       "    <tr>\n",
       "      <th>75%</th>\n",
       "      <td>2.000000</td>\n",
       "      <td>0.600000</td>\n",
       "      <td>0.470000</td>\n",
       "      <td>0.160000</td>\n",
       "      <td>1.067500</td>\n",
       "      <td>0.463000</td>\n",
       "      <td>0.232500</td>\n",
       "      <td>0.305000</td>\n",
       "      <td>11.000000</td>\n",
       "    </tr>\n",
       "    <tr>\n",
       "      <th>max</th>\n",
       "      <td>2.000000</td>\n",
       "      <td>0.815000</td>\n",
       "      <td>0.650000</td>\n",
       "      <td>1.130000</td>\n",
       "      <td>2.825500</td>\n",
       "      <td>1.488000</td>\n",
       "      <td>0.760000</td>\n",
       "      <td>1.005000</td>\n",
       "      <td>29.000000</td>\n",
       "    </tr>\n",
       "  </tbody>\n",
       "</table>\n",
       "</div>"
      ],
      "text/plain": [
       "                Sex        Length      Diameter        Height  Whole weight  \\\n",
       "count  90615.000000  90615.000000  90615.000000  90615.000000  90615.000000   \n",
       "mean       1.050014      0.517098      0.401679      0.135464      0.789035   \n",
       "std        0.795174      0.118217      0.098026      0.038008      0.457671   \n",
       "min        0.000000      0.075000      0.055000      0.000000      0.002000   \n",
       "25%        0.000000      0.445000      0.345000      0.110000      0.419000   \n",
       "50%        1.000000      0.545000      0.425000      0.140000      0.799500   \n",
       "75%        2.000000      0.600000      0.470000      0.160000      1.067500   \n",
       "max        2.000000      0.815000      0.650000      1.130000      2.825500   \n",
       "\n",
       "       Whole weight.1  Whole weight.2  Shell weight         Rings  \n",
       "count    90615.000000    90615.000000  90615.000000  90615.000000  \n",
       "mean         0.340778        0.169422      0.225898      9.696794  \n",
       "std          0.204428        0.100909      0.130203      3.176221  \n",
       "min          0.001000        0.000500      0.001500      1.000000  \n",
       "25%          0.177500        0.086500      0.120000      8.000000  \n",
       "50%          0.330000        0.166000      0.225000      9.000000  \n",
       "75%          0.463000        0.232500      0.305000     11.000000  \n",
       "max          1.488000        0.760000      1.005000     29.000000  "
      ]
     },
     "execution_count": 15,
     "metadata": {},
     "output_type": "execute_result"
    }
   ],
   "source": [
    "train_df_numeric.describe()"
   ]
  },
  {
   "cell_type": "code",
   "execution_count": 16,
   "metadata": {
    "execution": {
     "iopub.execute_input": "2024-04-12T00:57:27.286982Z",
     "iopub.status.busy": "2024-04-12T00:57:27.285898Z",
     "iopub.status.idle": "2024-04-12T00:57:27.576446Z",
     "shell.execute_reply": "2024-04-12T00:57:27.575391Z",
     "shell.execute_reply.started": "2024-04-12T00:57:27.286944Z"
    }
   },
   "outputs": [
    {
     "data": {
      "image/png": "[encoded data removed]",
      "text/plain": [
       "<Figure size 720x576 with 1 Axes>"
      ]
     },
     "metadata": {
      "needs_background": "light"
     },
     "output_type": "display_data"
    }
   ],
   "source": [
    "#how correlated every numeric feature is with the target variable(sex has the least relation with the target variable)\n",
    "correlation = train_df_numeric.corrwith(train_df_numeric['Rings']).sort_values(ascending=False)\n",
    "plt.figure(figsize=(10, 8))\n",
    "sns.barplot(x=correlation.values, y=correlation.index)\n",
    "plt.title('Correlation of Features with Target Variable Rings')\n",
    "plt.show()"
   ]
  },
  {
   "cell_type": "code",
   "execution_count": 17,
   "metadata": {},
   "outputs": [
    {
     "data": {
      "image/png": "[encoded data removed]",
      "text/plain": [
       "<Figure size 1080x720 with 8 Axes>"
      ]
     },
     "metadata": {
      "needs_background": "light"
     },
     "output_type": "display_data"
    }
   ],
   "source": [
    "y = train_df_numeric['Rings']\n",
    "X = train_df_numeric.drop('Rings', axis=1)\n",
    "\n",
    "plt.figure(figsize=(15, 10))\n",
    "\n",
    "for i, column in enumerate(X):\n",
    "    plt.subplot(3, 4, i+1)\n",
    "    sns.boxplot(y=X[column])\n",
    "    plt.title(column)\n",
    "\n",
    "plt.tight_layout()\n",
    "plt.show()"
   ]
  },
  {
   "cell_type": "code",
   "execution_count": 18,
   "metadata": {
    "execution": {
     "iopub.execute_input": "2024-04-12T00:57:27.578017Z",
     "iopub.status.busy": "2024-04-12T00:57:27.577703Z",
     "iopub.status.idle": "2024-04-12T00:57:27.638638Z",
     "shell.execute_reply": "2024-04-12T00:57:27.637888Z",
     "shell.execute_reply.started": "2024-04-12T00:57:27.577989Z"
    }
   },
   "outputs": [
    {
     "name": "stdout",
     "output_type": "stream",
     "text": [
      "Original size: (90615, 9), After outlier removal: (86766, 9)\n"
     ]
    }
   ],
   "source": [
    "def remove_outliers_iqr(df, columns):\n",
    "    for column in columns:\n",
    "        percentile25 = df[column].quantile(0.25)\n",
    "        percentile75 = df[column].quantile(0.75)\n",
    "        iqr = percentile75 - percentile25\n",
    "        upper_limit = percentile75 + 1.5 * iqr\n",
    "        lower_limit = percentile25 - 1.5 * iqr\n",
    "        \n",
    "        df = df[(df[column] >= lower_limit) & (df[column] <= upper_limit)]\n",
    "    \n",
    "    return df\n",
    "\n",
    "columns_to_check = ['Length','Diameter','Height','Whole weight','Whole weight.1','Whole weight.2', 'Shell weight']  # Specify your columns here\n",
    "new_df = remove_outliers_iqr(train_df_numeric, columns_to_check)\n",
    "\n",
    "print(f\"Original size: {train_df_numeric.shape}, After outlier removal: {new_df.shape}\")"
   ]
  },
  {
   "cell_type": "code",
   "execution_count": 19,
   "metadata": {
    "execution": {
     "iopub.execute_input": "2024-04-12T00:57:27.640208Z",
     "iopub.status.busy": "2024-04-12T00:57:27.639753Z",
     "iopub.status.idle": "2024-04-12T00:57:27.656946Z",
     "shell.execute_reply": "2024-04-12T00:57:27.655849Z",
     "shell.execute_reply.started": "2024-04-12T00:57:27.640182Z"
    }
   },
   "outputs": [
    {
     "data": {
      "text/html": [
       "<div>\n",
       "<style scoped>\n",
       "    .dataframe tbody tr th:only-of-type {\n",
       "        vertical-align: middle;\n",
       "    }\n",
       "\n",
       "    .dataframe tbody tr th {\n",
       "        vertical-align: top;\n",
       "    }\n",
       "\n",
       "    .dataframe thead th {\n",
       "        text-align: right;\n",
       "    }\n",
       "</style>\n",
       "<table border=\"1\" class=\"dataframe\">\n",
       "  <thead>\n",
       "    <tr style=\"text-align: right;\">\n",
       "      <th></th>\n",
       "      <th>Sex</th>\n",
       "      <th>Length</th>\n",
       "      <th>Diameter</th>\n",
       "      <th>Height</th>\n",
       "      <th>Whole weight</th>\n",
       "      <th>Whole weight.1</th>\n",
       "      <th>Whole weight.2</th>\n",
       "      <th>Shell weight</th>\n",
       "      <th>Rings</th>\n",
       "    </tr>\n",
       "    <tr>\n",
       "      <th>id</th>\n",
       "      <th></th>\n",
       "      <th></th>\n",
       "      <th></th>\n",
       "      <th></th>\n",
       "      <th></th>\n",
       "      <th></th>\n",
       "      <th></th>\n",
       "      <th></th>\n",
       "      <th></th>\n",
       "    </tr>\n",
       "  </thead>\n",
       "  <tbody>\n",
       "    <tr>\n",
       "      <th>0</th>\n",
       "      <td>0</td>\n",
       "      <td>0.550</td>\n",
       "      <td>0.430</td>\n",
       "      <td>0.150</td>\n",
       "      <td>0.7715</td>\n",
       "      <td>0.3285</td>\n",
       "      <td>0.1465</td>\n",
       "      <td>0.2400</td>\n",
       "      <td>11</td>\n",
       "    </tr>\n",
       "    <tr>\n",
       "      <th>1</th>\n",
       "      <td>0</td>\n",
       "      <td>0.630</td>\n",
       "      <td>0.490</td>\n",
       "      <td>0.145</td>\n",
       "      <td>1.1300</td>\n",
       "      <td>0.4580</td>\n",
       "      <td>0.2765</td>\n",
       "      <td>0.3200</td>\n",
       "      <td>11</td>\n",
       "    </tr>\n",
       "    <tr>\n",
       "      <th>3</th>\n",
       "      <td>2</td>\n",
       "      <td>0.595</td>\n",
       "      <td>0.475</td>\n",
       "      <td>0.150</td>\n",
       "      <td>0.9145</td>\n",
       "      <td>0.3755</td>\n",
       "      <td>0.2055</td>\n",
       "      <td>0.2500</td>\n",
       "      <td>10</td>\n",
       "    </tr>\n",
       "    <tr>\n",
       "      <th>4</th>\n",
       "      <td>1</td>\n",
       "      <td>0.555</td>\n",
       "      <td>0.425</td>\n",
       "      <td>0.130</td>\n",
       "      <td>0.7820</td>\n",
       "      <td>0.3695</td>\n",
       "      <td>0.1600</td>\n",
       "      <td>0.1975</td>\n",
       "      <td>9</td>\n",
       "    </tr>\n",
       "    <tr>\n",
       "      <th>5</th>\n",
       "      <td>0</td>\n",
       "      <td>0.610</td>\n",
       "      <td>0.480</td>\n",
       "      <td>0.170</td>\n",
       "      <td>1.2010</td>\n",
       "      <td>0.5335</td>\n",
       "      <td>0.3135</td>\n",
       "      <td>0.3085</td>\n",
       "      <td>10</td>\n",
       "    </tr>\n",
       "    <tr>\n",
       "      <th>...</th>\n",
       "      <td>...</td>\n",
       "      <td>...</td>\n",
       "      <td>...</td>\n",
       "      <td>...</td>\n",
       "      <td>...</td>\n",
       "      <td>...</td>\n",
       "      <td>...</td>\n",
       "      <td>...</td>\n",
       "      <td>...</td>\n",
       "    </tr>\n",
       "    <tr>\n",
       "      <th>90610</th>\n",
       "      <td>2</td>\n",
       "      <td>0.335</td>\n",
       "      <td>0.235</td>\n",
       "      <td>0.075</td>\n",
       "      <td>0.1585</td>\n",
       "      <td>0.0685</td>\n",
       "      <td>0.0370</td>\n",
       "      <td>0.0450</td>\n",
       "      <td>6</td>\n",
       "    </tr>\n",
       "    <tr>\n",
       "      <th>90611</th>\n",
       "      <td>2</td>\n",
       "      <td>0.555</td>\n",
       "      <td>0.425</td>\n",
       "      <td>0.150</td>\n",
       "      <td>0.8790</td>\n",
       "      <td>0.3865</td>\n",
       "      <td>0.1815</td>\n",
       "      <td>0.2400</td>\n",
       "      <td>9</td>\n",
       "    </tr>\n",
       "    <tr>\n",
       "      <th>90612</th>\n",
       "      <td>1</td>\n",
       "      <td>0.435</td>\n",
       "      <td>0.330</td>\n",
       "      <td>0.095</td>\n",
       "      <td>0.3215</td>\n",
       "      <td>0.1510</td>\n",
       "      <td>0.0785</td>\n",
       "      <td>0.0815</td>\n",
       "      <td>6</td>\n",
       "    </tr>\n",
       "    <tr>\n",
       "      <th>90613</th>\n",
       "      <td>1</td>\n",
       "      <td>0.345</td>\n",
       "      <td>0.270</td>\n",
       "      <td>0.075</td>\n",
       "      <td>0.2000</td>\n",
       "      <td>0.0980</td>\n",
       "      <td>0.0490</td>\n",
       "      <td>0.0700</td>\n",
       "      <td>6</td>\n",
       "    </tr>\n",
       "    <tr>\n",
       "      <th>90614</th>\n",
       "      <td>1</td>\n",
       "      <td>0.425</td>\n",
       "      <td>0.325</td>\n",
       "      <td>0.100</td>\n",
       "      <td>0.3455</td>\n",
       "      <td>0.1525</td>\n",
       "      <td>0.0785</td>\n",
       "      <td>0.1050</td>\n",
       "      <td>8</td>\n",
       "    </tr>\n",
       "  </tbody>\n",
       "</table>\n",
       "<p>86766 rows × 9 columns</p>\n",
       "</div>"
      ],
      "text/plain": [
       "       Sex  Length  Diameter  Height  Whole weight  Whole weight.1  \\\n",
       "id                                                                   \n",
       "0        0   0.550     0.430   0.150        0.7715          0.3285   \n",
       "1        0   0.630     0.490   0.145        1.1300          0.4580   \n",
       "3        2   0.595     0.475   0.150        0.9145          0.3755   \n",
       "4        1   0.555     0.425   0.130        0.7820          0.3695   \n",
       "5        0   0.610     0.480   0.170        1.2010          0.5335   \n",
       "...    ...     ...       ...     ...           ...             ...   \n",
       "90610    2   0.335     0.235   0.075        0.1585          0.0685   \n",
       "90611    2   0.555     0.425   0.150        0.8790          0.3865   \n",
       "90612    1   0.435     0.330   0.095        0.3215          0.1510   \n",
       "90613    1   0.345     0.270   0.075        0.2000          0.0980   \n",
       "90614    1   0.425     0.325   0.100        0.3455          0.1525   \n",
       "\n",
       "       Whole weight.2  Shell weight  Rings  \n",
       "id                                          \n",
       "0              0.1465        0.2400     11  \n",
       "1              0.2765        0.3200     11  \n",
       "3              0.2055        0.2500     10  \n",
       "4              0.1600        0.1975      9  \n",
       "5              0.3135        0.3085     10  \n",
       "...               ...           ...    ...  \n",
       "90610          0.0370        0.0450      6  \n",
       "90611          0.1815        0.2400      9  \n",
       "90612          0.0785        0.0815      6  \n",
       "90613          0.0490        0.0700      6  \n",
       "90614          0.0785        0.1050      8  \n",
       "\n",
       "[86766 rows x 9 columns]"
      ]
     },
     "execution_count": 19,
     "metadata": {},
     "output_type": "execute_result"
    }
   ],
   "source": [
    "new_df"
   ]
  },
  {
   "cell_type": "code",
   "execution_count": 20,
   "metadata": {
    "execution": {
     "iopub.execute_input": "2024-04-12T00:57:27.658893Z",
     "iopub.status.busy": "2024-04-12T00:57:27.658313Z",
     "iopub.status.idle": "2024-04-12T00:57:28.951243Z",
     "shell.execute_reply": "2024-04-12T00:57:28.949973Z",
     "shell.execute_reply.started": "2024-04-12T00:57:27.658855Z"
    }
   },
   "outputs": [
    {
     "data": {
      "image/png": "[encoded data removed]",
      "text/plain": [
       "<Figure size 1080x720 with 8 Axes>"
      ]
     },
     "metadata": {
      "needs_background": "light"
     },
     "output_type": "display_data"
    }
   ],
   "source": [
    "y = new_df['Rings']\n",
    "X = new_df.drop('Rings', axis=1)\n",
    "\n",
    "plt.figure(figsize=(15, 10))\n",
    "\n",
    "for i, column in enumerate(X):\n",
    "    plt.subplot(3, 4, i+1)\n",
    "    sns.boxplot(y=X[column])\n",
    "    plt.title(column)\n",
    "\n",
    "plt.tight_layout()\n",
    "plt.show()"
   ]
  },
  {
   "cell_type": "markdown",
   "metadata": {
    "execution": {
     "iopub.execute_input": "2024-04-12T00:57:28.953322Z",
     "iopub.status.busy": "2024-04-12T00:57:28.952915Z",
     "iopub.status.idle": "2024-04-12T00:57:28.959400Z",
     "shell.execute_reply": "2024-04-12T00:57:28.957930Z",
     "shell.execute_reply.started": "2024-04-12T00:57:28.953282Z"
    }
   },
   "source": [
    "### Also tried log transformation on original train_df_numeric"
   ]
  },
  {
   "cell_type": "code",
   "execution_count": 21,
   "metadata": {
    "execution": {
     "iopub.execute_input": "2024-04-12T00:57:28.961159Z",
     "iopub.status.busy": "2024-04-12T00:57:28.960783Z",
     "iopub.status.idle": "2024-04-12T00:57:29.011586Z",
     "shell.execute_reply": "2024-04-12T00:57:29.010756Z",
     "shell.execute_reply.started": "2024-04-12T00:57:28.961127Z"
    }
   },
   "outputs": [],
   "source": [
    "# # List of columns to transform\n",
    "# #columns_to_check = ['Length', 'Diameter', 'Height', 'Whole weight', 'Whole weight.1', 'Whole weight.2', 'Shell weight', 'Sex_F', 'Sex_I', 'Sex_M']\n",
    "# columns_to_check = ['Length', 'Diameter', 'Height', 'Whole weight', 'Whole weight.1', 'Whole weight.2', 'Shell weight']\n",
    "\n",
    "# # Additional columns to include without transformation\n",
    "# additional_columns = ['Sex','Rings']\n",
    "\n",
    "# # Apply log transformation for specified columns\n",
    "# log_transformed_df = pd.DataFrame()\n",
    "# for column in columns_to_check:\n",
    "#     log_transformed_df[column + '_log'] = np.log1p(train_df_numeric[column])\n",
    "\n",
    "# # Include additional columns from the original DataFrame\n",
    "# log_transformed_df[additional_columns] = train_df_numeric[additional_columns]\n",
    "\n",
    "# # Verify the resulting DataFrame\n",
    "# log_transformed_df.head()\n"
   ]
  },
  {
   "cell_type": "markdown",
   "metadata": {},
   "source": [
    "### Also after removing outliers data"
   ]
  },
  {
   "cell_type": "code",
   "execution_count": 22,
   "metadata": {},
   "outputs": [
    {
     "data": {
      "text/html": [
       "<div>\n",
       "<style scoped>\n",
       "    .dataframe tbody tr th:only-of-type {\n",
       "        vertical-align: middle;\n",
       "    }\n",
       "\n",
       "    .dataframe tbody tr th {\n",
       "        vertical-align: top;\n",
       "    }\n",
       "\n",
       "    .dataframe thead th {\n",
       "        text-align: right;\n",
       "    }\n",
       "</style>\n",
       "<table border=\"1\" class=\"dataframe\">\n",
       "  <thead>\n",
       "    <tr style=\"text-align: right;\">\n",
       "      <th></th>\n",
       "      <th>Length_log</th>\n",
       "      <th>Diameter_log</th>\n",
       "      <th>Height_log</th>\n",
       "      <th>Whole weight_log</th>\n",
       "      <th>Whole weight.1_log</th>\n",
       "      <th>Whole weight.2_log</th>\n",
       "      <th>Shell weight_log</th>\n",
       "      <th>Sex</th>\n",
       "      <th>Rings</th>\n",
       "    </tr>\n",
       "    <tr>\n",
       "      <th>id</th>\n",
       "      <th></th>\n",
       "      <th></th>\n",
       "      <th></th>\n",
       "      <th></th>\n",
       "      <th></th>\n",
       "      <th></th>\n",
       "      <th></th>\n",
       "      <th></th>\n",
       "      <th></th>\n",
       "    </tr>\n",
       "  </thead>\n",
       "  <tbody>\n",
       "    <tr>\n",
       "      <th>0</th>\n",
       "      <td>0.438255</td>\n",
       "      <td>0.357674</td>\n",
       "      <td>0.139762</td>\n",
       "      <td>0.571827</td>\n",
       "      <td>0.284050</td>\n",
       "      <td>0.136714</td>\n",
       "      <td>0.215111</td>\n",
       "      <td>0</td>\n",
       "      <td>11</td>\n",
       "    </tr>\n",
       "    <tr>\n",
       "      <th>1</th>\n",
       "      <td>0.488580</td>\n",
       "      <td>0.398776</td>\n",
       "      <td>0.135405</td>\n",
       "      <td>0.756122</td>\n",
       "      <td>0.377066</td>\n",
       "      <td>0.244122</td>\n",
       "      <td>0.277632</td>\n",
       "      <td>0</td>\n",
       "      <td>11</td>\n",
       "    </tr>\n",
       "    <tr>\n",
       "      <th>3</th>\n",
       "      <td>0.466874</td>\n",
       "      <td>0.388658</td>\n",
       "      <td>0.139762</td>\n",
       "      <td>0.649456</td>\n",
       "      <td>0.318817</td>\n",
       "      <td>0.186894</td>\n",
       "      <td>0.223144</td>\n",
       "      <td>2</td>\n",
       "      <td>10</td>\n",
       "    </tr>\n",
       "    <tr>\n",
       "      <th>4</th>\n",
       "      <td>0.441476</td>\n",
       "      <td>0.354172</td>\n",
       "      <td>0.122218</td>\n",
       "      <td>0.577736</td>\n",
       "      <td>0.314446</td>\n",
       "      <td>0.148420</td>\n",
       "      <td>0.180236</td>\n",
       "      <td>1</td>\n",
       "      <td>9</td>\n",
       "    </tr>\n",
       "    <tr>\n",
       "      <th>5</th>\n",
       "      <td>0.476234</td>\n",
       "      <td>0.392042</td>\n",
       "      <td>0.157004</td>\n",
       "      <td>0.788912</td>\n",
       "      <td>0.427553</td>\n",
       "      <td>0.272695</td>\n",
       "      <td>0.268881</td>\n",
       "      <td>0</td>\n",
       "      <td>10</td>\n",
       "    </tr>\n",
       "  </tbody>\n",
       "</table>\n",
       "</div>"
      ],
      "text/plain": [
       "    Length_log  Diameter_log  Height_log  Whole weight_log  \\\n",
       "id                                                           \n",
       "0     0.438255      0.357674    0.139762          0.571827   \n",
       "1     0.488580      0.398776    0.135405          0.756122   \n",
       "3     0.466874      0.388658    0.139762          0.649456   \n",
       "4     0.441476      0.354172    0.122218          0.577736   \n",
       "5     0.476234      0.392042    0.157004          0.788912   \n",
       "\n",
       "    Whole weight.1_log  Whole weight.2_log  Shell weight_log  Sex  Rings  \n",
       "id                                                                        \n",
       "0             0.284050            0.136714          0.215111    0     11  \n",
       "1             0.377066            0.244122          0.277632    0     11  \n",
       "3             0.318817            0.186894          0.223144    2     10  \n",
       "4             0.314446            0.148420          0.180236    1      9  \n",
       "5             0.427553            0.272695          0.268881    0     10  "
      ]
     },
     "execution_count": 22,
     "metadata": {},
     "output_type": "execute_result"
    }
   ],
   "source": [
    "# List of columns to transform\n",
    "#columns_to_check = ['Length', 'Diameter', 'Height', 'Whole weight', 'Whole weight.1', 'Whole weight.2', 'Shell weight', 'Sex_F', 'Sex_I', 'Sex_M']\n",
    "columns_to_check = ['Length', 'Diameter', 'Height', 'Whole weight', 'Whole weight.1', 'Whole weight.2', 'Shell weight']\n",
    "\n",
    "# Additional columns to include without transformation\n",
    "additional_columns = ['Sex','Rings']\n",
    "\n",
    "# Apply log transformation for specified columns\n",
    "log_transformed_df = pd.DataFrame()\n",
    "for column in columns_to_check:\n",
    "    log_transformed_df[column + '_log'] = np.log1p(new_df[column])\n",
    "\n",
    "# Include additional columns from the original DataFrame\n",
    "log_transformed_df[additional_columns] = new_df[additional_columns]\n",
    "\n",
    "# Verify the resulting DataFrame\n",
    "log_transformed_df.head()"
   ]
  },
  {
   "cell_type": "code",
   "execution_count": 25,
   "metadata": {
    "execution": {
     "iopub.execute_input": "2024-04-12T00:57:29.013248Z",
     "iopub.status.busy": "2024-04-12T00:57:29.012584Z",
     "iopub.status.idle": "2024-04-12T00:57:30.338747Z",
     "shell.execute_reply": "2024-04-12T00:57:30.337727Z",
     "shell.execute_reply.started": "2024-04-12T00:57:29.013213Z"
    }
   },
   "outputs": [
    {
     "data": {
      "image/png": "[encoded data removed]",
      "text/plain": [
       "<Figure size 1080x720 with 8 Axes>"
      ]
     },
     "metadata": {
      "needs_background": "light"
     },
     "output_type": "display_data"
    }
   ],
   "source": [
    "y = log_transformed_df['Rings']\n",
    "X = log_transformed_df.drop('Rings', axis=1)\n",
    "\n",
    "plt.figure(figsize=(15, 10))\n",
    "\n",
    "for i, column in enumerate(X):\n",
    "    plt.subplot(3, 4, i+1)\n",
    "    sns.boxplot(y=X[column])\n",
    "    plt.title(column)\n",
    "\n",
    "plt.tight_layout()\n",
    "plt.show()"
   ]
  },
  {
   "cell_type": "code",
   "execution_count": 85,
   "metadata": {
    "execution": {
     "iopub.execute_input": "2024-04-12T00:57:30.340454Z",
     "iopub.status.busy": "2024-04-12T00:57:30.340036Z",
     "iopub.status.idle": "2024-04-12T00:57:30.347674Z",
     "shell.execute_reply": "2024-04-12T00:57:30.346674Z",
     "shell.execute_reply.started": "2024-04-12T00:57:30.340427Z"
    }
   },
   "outputs": [],
   "source": [
    "# # # List of columns to transform\n",
    "# # #columns_to_check = ['Length', 'Diameter', 'Height', 'Whole weight', 'Whole weight.1', 'Whole weight.2', 'Shell weight', 'Sex_F', 'Sex_I', 'Sex_M']\n",
    "# # olumns_to_check = ['Length', 'Diameter', 'Height', 'Whole weight', 'Whole weight.1', 'Whole weight.2', 'Shell weight']\n",
    "# \n",
    "# # # Additional columns to include without transformation\n",
    "# # additional_columns = ['Rings']\n",
    "# \n",
    "# # # Apply log transformation for specified columns\n",
    "# # log_transformed_df = pd.DataFrame()\n",
    "# # for column in columns_to_check:\n",
    "# #     log_transformed_df[column + '_log'] = np.log1p(train_df_numeric[column])\n",
    "# \n",
    "# # # Include additional columns from the original DataFrame\n",
    "# # log_transformed_df[additional_columns] = train_df_numeric[additional_columns]\n",
    "# \n",
    "# # # Verify the resulting DataFrame\n",
    "# # log_transformed_df.head()\n",
    "# \n"
   ]
  },
  {
   "cell_type": "code",
   "execution_count": 26,
   "metadata": {
    "execution": {
     "iopub.execute_input": "2024-04-12T00:57:30.356329Z",
     "iopub.status.busy": "2024-04-12T00:57:30.356033Z",
     "iopub.status.idle": "2024-04-12T00:57:30.653120Z",
     "shell.execute_reply": "2024-04-12T00:57:30.652232Z",
     "shell.execute_reply.started": "2024-04-12T00:57:30.356293Z"
    }
   },
   "outputs": [
    {
     "data": {
      "image/png": "[encoded data removed]",
      "text/plain": [
       "<Figure size 720x576 with 1 Axes>"
      ]
     },
     "metadata": {
      "needs_background": "light"
     },
     "output_type": "display_data"
    }
   ],
   "source": [
    "correlation = log_transformed_df.corrwith(log_transformed_df['Rings']).sort_values(ascending=False)\n",
    "#correlation = new_df.corrwith(new_df['Rings']).sort_values(ascending=False)\n",
    "plt.figure(figsize=(10, 8))\n",
    "sns.barplot(x=correlation.values, y=correlation.index)\n",
    "plt.title('Correlation of Features with Target Variable Rings')\n",
    "plt.show()"
   ]
  },
  {
   "cell_type": "markdown",
   "metadata": {},
   "source": [
    "### Linear Regression"
   ]
  },
  {
   "cell_type": "code",
   "execution_count": 27,
   "metadata": {
    "execution": {
     "iopub.execute_input": "2024-04-12T00:57:30.654590Z",
     "iopub.status.busy": "2024-04-12T00:57:30.654264Z",
     "iopub.status.idle": "2024-04-12T00:57:30.681563Z",
     "shell.execute_reply": "2024-04-12T00:57:30.680715Z",
     "shell.execute_reply.started": "2024-04-12T00:57:30.654564Z"
    }
   },
   "outputs": [],
   "source": [
    "X = log_transformed_df.drop('Rings', axis=1)\n",
    "y = log_transformed_df['Rings']\n",
    "\n",
    "\n",
    "# X = new_df.drop('Rings', axis=1)\n",
    "# y = new_df['Rings']\n",
    "\n",
    "#scaler = MinMaxScaler(feature_range=(-1,1))\n",
    "scaler = StandardScaler()\n",
    "X_scaled = scaler.fit_transform(X)\n",
    "\n",
    "X_train, X_val, y_train, y_val = train_test_split(X, y, test_size=0.2, random_state=42)"
   ]
  },
  {
   "cell_type": "code",
   "execution_count": 28,
   "metadata": {
    "execution": {
     "iopub.execute_input": "2024-04-12T00:57:30.683020Z",
     "iopub.status.busy": "2024-04-12T00:57:30.682732Z",
     "iopub.status.idle": "2024-04-12T00:57:30.712743Z",
     "shell.execute_reply": "2024-04-12T00:57:30.711480Z",
     "shell.execute_reply.started": "2024-04-12T00:57:30.682996Z"
    }
   },
   "outputs": [
    {
     "data": {
      "text/html": [
       "<style>#sk-container-id-1 {color: black;background-color: white;}#sk-container-id-1 pre{padding: 0;}#sk-container-id-1 div.sk-toggleable {background-color: white;}#sk-container-id-1 label.sk-toggleable__label {cursor: pointer;display: block;width: 100%;margin-bottom: 0;padding: 0.3em;box-sizing: border-box;text-align: center;}#sk-container-id-1 label.sk-toggleable__label-arrow:before {content: \"▸\";float: left;margin-right: 0.25em;color: #696969;}#sk-container-id-1 label.sk-toggleable__label-arrow:hover:before {color: black;}#sk-container-id-1 div.sk-estimator:hover label.sk-toggleable__label-arrow:before {color: black;}#sk-container-id-1 div.sk-toggleable__content {max-height: 0;max-width: 0;overflow: hidden;text-align: left;background-color: #f0f8ff;}#sk-container-id-1 div.sk-toggleable__content pre {margin: 0.2em;color: black;border-radius: 0.25em;background-color: #f0f8ff;}#sk-container-id-1 input.sk-toggleable__control:checked~div.sk-toggleable__content {max-height: 200px;max-width: 100%;overflow: auto;}#sk-container-id-1 input.sk-toggleable__control:checked~label.sk-toggleable__label-arrow:before {content: \"▾\";}#sk-container-id-1 div.sk-estimator input.sk-toggleable__control:checked~label.sk-toggleable__label {background-color: #d4ebff;}#sk-container-id-1 div.sk-label input.sk-toggleable__control:checked~label.sk-toggleable__label {background-color: #d4ebff;}#sk-container-id-1 input.sk-hidden--visually {border: 0;clip: rect(1px 1px 1px 1px);clip: rect(1px, 1px, 1px, 1px);height: 1px;margin: -1px;overflow: hidden;padding: 0;position: absolute;width: 1px;}#sk-container-id-1 div.sk-estimator {font-family: monospace;background-color: #f0f8ff;border: 1px dotted black;border-radius: 0.25em;box-sizing: border-box;margin-bottom: 0.5em;}#sk-container-id-1 div.sk-estimator:hover {background-color: #d4ebff;}#sk-container-id-1 div.sk-parallel-item::after {content: \"\";width: 100%;border-bottom: 1px solid gray;flex-grow: 1;}#sk-container-id-1 div.sk-label:hover label.sk-toggleable__label {background-color: #d4ebff;}#sk-container-id-1 div.sk-serial::before {content: \"\";position: absolute;border-left: 1px solid gray;box-sizing: border-box;top: 0;bottom: 0;left: 50%;z-index: 0;}#sk-container-id-1 div.sk-serial {display: flex;flex-direction: column;align-items: center;background-color: white;padding-right: 0.2em;padding-left: 0.2em;position: relative;}#sk-container-id-1 div.sk-item {position: relative;z-index: 1;}#sk-container-id-1 div.sk-parallel {display: flex;align-items: stretch;justify-content: center;background-color: white;position: relative;}#sk-container-id-1 div.sk-item::before, #sk-container-id-1 div.sk-parallel-item::before {content: \"\";position: absolute;border-left: 1px solid gray;box-sizing: border-box;top: 0;bottom: 0;left: 50%;z-index: -1;}#sk-container-id-1 div.sk-parallel-item {display: flex;flex-direction: column;z-index: 1;position: relative;background-color: white;}#sk-container-id-1 div.sk-parallel-item:first-child::after {align-self: flex-end;width: 50%;}#sk-container-id-1 div.sk-parallel-item:last-child::after {align-self: flex-start;width: 50%;}#sk-container-id-1 div.sk-parallel-item:only-child::after {width: 0;}#sk-container-id-1 div.sk-dashed-wrapped {border: 1px dashed gray;margin: 0 0.4em 0.5em 0.4em;box-sizing: border-box;padding-bottom: 0.4em;background-color: white;}#sk-container-id-1 div.sk-label label {font-family: monospace;font-weight: bold;display: inline-block;line-height: 1.2em;}#sk-container-id-1 div.sk-label-container {text-align: center;}#sk-container-id-1 div.sk-container {/* jupyter's `normalize.less` sets `[hidden] { display: none; }` but bootstrap.min.css set `[hidden] { display: none !important; }` so we also need the `!important` here to be able to override the default hidden behavior on the sphinx rendered scikit-learn.org. See: https://github.com/scikit-learn/scikit-learn/issues/21755 */display: inline-block !important;position: relative;}#sk-container-id-1 div.sk-text-repr-fallback {display: none;}</style><div id=\"sk-container-id-1\" class=\"sk-top-container\"><div class=\"sk-text-repr-fallback\"><pre>LinearRegression()</pre><b>In a Jupyter environment, please rerun this cell to show the HTML representation or trust the notebook. <br />On GitHub, the HTML representation is unable to render, please try loading this page with nbviewer.org.</b></div><div class=\"sk-container\" hidden><div class=\"sk-item\"><div class=\"sk-estimator sk-toggleable\"><input class=\"sk-toggleable__control sk-hidden--visually\" id=\"sk-estimator-id-1\" type=\"checkbox\" checked><label for=\"sk-estimator-id-1\" class=\"sk-toggleable__label sk-toggleable__label-arrow\">LinearRegression</label><div class=\"sk-toggleable__content\"><pre>LinearRegression()</pre></div></div></div></div></div>"
      ],
      "text/plain": [
       "LinearRegression()"
      ]
     },
     "execution_count": 28,
     "metadata": {},
     "output_type": "execute_result"
    }
   ],
   "source": [
    "model_lin = LinearRegression()\n",
    "model_lin.fit(X_train, y_train)"
   ]
  },
  {
   "cell_type": "code",
   "execution_count": 29,
   "metadata": {
    "execution": {
     "iopub.execute_input": "2024-04-12T00:57:30.715145Z",
     "iopub.status.busy": "2024-04-12T00:57:30.714722Z",
     "iopub.status.idle": "2024-04-12T00:57:30.728754Z",
     "shell.execute_reply": "2024-04-12T00:57:30.727672Z",
     "shell.execute_reply.started": "2024-04-12T00:57:30.715110Z"
    }
   },
   "outputs": [],
   "source": [
    "y_pred_lin = model_lin.predict(X_val)"
   ]
  },
  {
   "cell_type": "code",
   "execution_count": 30,
   "metadata": {
    "execution": {
     "iopub.execute_input": "2024-04-12T00:57:30.731864Z",
     "iopub.status.busy": "2024-04-12T00:57:30.730588Z",
     "iopub.status.idle": "2024-04-12T00:57:30.740041Z",
     "shell.execute_reply": "2024-04-12T00:57:30.738977Z",
     "shell.execute_reply.started": "2024-04-12T00:57:30.731829Z"
    }
   },
   "outputs": [],
   "source": [
    "def rmsle(y_true, y_pred):\n",
    "    log_pred = np.log1p(y_pred)\n",
    "    log_true = np.log1p(y_true)\n",
    "    \n",
    "    # Calculate the squared difference\n",
    "    squared_error = np.square(log_pred - log_true)\n",
    "    \n",
    "    # Calculate the mean of squared differences and take the square root\n",
    "    rmsle = np.sqrt(np.mean(squared_error))\n",
    "    \n",
    "    return rmsle"
   ]
  },
  {
   "cell_type": "code",
   "execution_count": 31,
   "metadata": {
    "execution": {
     "iopub.execute_input": "2024-04-12T00:57:30.742593Z",
     "iopub.status.busy": "2024-04-12T00:57:30.741486Z",
     "iopub.status.idle": "2024-04-12T00:57:30.753557Z",
     "shell.execute_reply": "2024-04-12T00:57:30.752379Z",
     "shell.execute_reply.started": "2024-04-12T00:57:30.742559Z"
    }
   },
   "outputs": [
    {
     "name": "stdout",
     "output_type": "stream",
     "text": [
      "Root Mean Squared Logarithmic Error (RMSLE): 0.16212608426717615\n"
     ]
    }
   ],
   "source": [
    "rmsle_score_lin = rmsle(y_val, y_pred_lin)\n",
    "print(f\"Root Mean Squared Logarithmic Error (RMSLE): {rmsle_score_lin}\")"
   ]
  },
  {
   "cell_type": "markdown",
   "metadata": {},
   "source": [
    "### Desicion tree regression"
   ]
  },
  {
   "cell_type": "code",
   "execution_count": 32,
   "metadata": {
    "execution": {
     "iopub.execute_input": "2024-04-12T00:57:30.770043Z",
     "iopub.status.busy": "2024-04-12T00:57:30.765233Z",
     "iopub.status.idle": "2024-04-12T00:57:31.355252Z",
     "shell.execute_reply": "2024-04-12T00:57:31.354095Z",
     "shell.execute_reply.started": "2024-04-12T00:57:30.769999Z"
    }
   },
   "outputs": [
    {
     "data": {
      "text/html": [
       "<style>#sk-container-id-2 {color: black;background-color: white;}#sk-container-id-2 pre{padding: 0;}#sk-container-id-2 div.sk-toggleable {background-color: white;}#sk-container-id-2 label.sk-toggleable__label {cursor: pointer;display: block;width: 100%;margin-bottom: 0;padding: 0.3em;box-sizing: border-box;text-align: center;}#sk-container-id-2 label.sk-toggleable__label-arrow:before {content: \"▸\";float: left;margin-right: 0.25em;color: #696969;}#sk-container-id-2 label.sk-toggleable__label-arrow:hover:before {color: black;}#sk-container-id-2 div.sk-estimator:hover label.sk-toggleable__label-arrow:before {color: black;}#sk-container-id-2 div.sk-toggleable__content {max-height: 0;max-width: 0;overflow: hidden;text-align: left;background-color: #f0f8ff;}#sk-container-id-2 div.sk-toggleable__content pre {margin: 0.2em;color: black;border-radius: 0.25em;background-color: #f0f8ff;}#sk-container-id-2 input.sk-toggleable__control:checked~div.sk-toggleable__content {max-height: 200px;max-width: 100%;overflow: auto;}#sk-container-id-2 input.sk-toggleable__control:checked~label.sk-toggleable__label-arrow:before {content: \"▾\";}#sk-container-id-2 div.sk-estimator input.sk-toggleable__control:checked~label.sk-toggleable__label {background-color: #d4ebff;}#sk-container-id-2 div.sk-label input.sk-toggleable__control:checked~label.sk-toggleable__label {background-color: #d4ebff;}#sk-container-id-2 input.sk-hidden--visually {border: 0;clip: rect(1px 1px 1px 1px);clip: rect(1px, 1px, 1px, 1px);height: 1px;margin: -1px;overflow: hidden;padding: 0;position: absolute;width: 1px;}#sk-container-id-2 div.sk-estimator {font-family: monospace;background-color: #f0f8ff;border: 1px dotted black;border-radius: 0.25em;box-sizing: border-box;margin-bottom: 0.5em;}#sk-container-id-2 div.sk-estimator:hover {background-color: #d4ebff;}#sk-container-id-2 div.sk-parallel-item::after {content: \"\";width: 100%;border-bottom: 1px solid gray;flex-grow: 1;}#sk-container-id-2 div.sk-label:hover label.sk-toggleable__label {background-color: #d4ebff;}#sk-container-id-2 div.sk-serial::before {content: \"\";position: absolute;border-left: 1px solid gray;box-sizing: border-box;top: 0;bottom: 0;left: 50%;z-index: 0;}#sk-container-id-2 div.sk-serial {display: flex;flex-direction: column;align-items: center;background-color: white;padding-right: 0.2em;padding-left: 0.2em;position: relative;}#sk-container-id-2 div.sk-item {position: relative;z-index: 1;}#sk-container-id-2 div.sk-parallel {display: flex;align-items: stretch;justify-content: center;background-color: white;position: relative;}#sk-container-id-2 div.sk-item::before, #sk-container-id-2 div.sk-parallel-item::before {content: \"\";position: absolute;border-left: 1px solid gray;box-sizing: border-box;top: 0;bottom: 0;left: 50%;z-index: -1;}#sk-container-id-2 div.sk-parallel-item {display: flex;flex-direction: column;z-index: 1;position: relative;background-color: white;}#sk-container-id-2 div.sk-parallel-item:first-child::after {align-self: flex-end;width: 50%;}#sk-container-id-2 div.sk-parallel-item:last-child::after {align-self: flex-start;width: 50%;}#sk-container-id-2 div.sk-parallel-item:only-child::after {width: 0;}#sk-container-id-2 div.sk-dashed-wrapped {border: 1px dashed gray;margin: 0 0.4em 0.5em 0.4em;box-sizing: border-box;padding-bottom: 0.4em;background-color: white;}#sk-container-id-2 div.sk-label label {font-family: monospace;font-weight: bold;display: inline-block;line-height: 1.2em;}#sk-container-id-2 div.sk-label-container {text-align: center;}#sk-container-id-2 div.sk-container {/* jupyter's `normalize.less` sets `[hidden] { display: none; }` but bootstrap.min.css set `[hidden] { display: none !important; }` so we also need the `!important` here to be able to override the default hidden behavior on the sphinx rendered scikit-learn.org. See: https://github.com/scikit-learn/scikit-learn/issues/21755 */display: inline-block !important;position: relative;}#sk-container-id-2 div.sk-text-repr-fallback {display: none;}</style><div id=\"sk-container-id-2\" class=\"sk-top-container\"><div class=\"sk-text-repr-fallback\"><pre>DecisionTreeRegressor(random_state=42)</pre><b>In a Jupyter environment, please rerun this cell to show the HTML representation or trust the notebook. <br />On GitHub, the HTML representation is unable to render, please try loading this page with nbviewer.org.</b></div><div class=\"sk-container\" hidden><div class=\"sk-item\"><div class=\"sk-estimator sk-toggleable\"><input class=\"sk-toggleable__control sk-hidden--visually\" id=\"sk-estimator-id-2\" type=\"checkbox\" checked><label for=\"sk-estimator-id-2\" class=\"sk-toggleable__label sk-toggleable__label-arrow\">DecisionTreeRegressor</label><div class=\"sk-toggleable__content\"><pre>DecisionTreeRegressor(random_state=42)</pre></div></div></div></div></div>"
      ],
      "text/plain": [
       "DecisionTreeRegressor(random_state=42)"
      ]
     },
     "execution_count": 32,
     "metadata": {},
     "output_type": "execute_result"
    }
   ],
   "source": [
    "model_dt = DecisionTreeRegressor(random_state=42)\n",
    "model_dt.fit(X_train, y_train)"
   ]
  },
  {
   "cell_type": "code",
   "execution_count": 33,
   "metadata": {
    "execution": {
     "iopub.execute_input": "2024-04-12T00:57:31.356910Z",
     "iopub.status.busy": "2024-04-12T00:57:31.356324Z",
     "iopub.status.idle": "2024-04-12T00:57:31.371838Z",
     "shell.execute_reply": "2024-04-12T00:57:31.370801Z",
     "shell.execute_reply.started": "2024-04-12T00:57:31.356876Z"
    }
   },
   "outputs": [],
   "source": [
    "y_pred_dt = model_dt.predict(X_val)"
   ]
  },
  {
   "cell_type": "code",
   "execution_count": 34,
   "metadata": {
    "execution": {
     "iopub.execute_input": "2024-04-12T00:57:31.373901Z",
     "iopub.status.busy": "2024-04-12T00:57:31.373490Z",
     "iopub.status.idle": "2024-04-12T00:57:31.380737Z",
     "shell.execute_reply": "2024-04-12T00:57:31.379613Z",
     "shell.execute_reply.started": "2024-04-12T00:57:31.373855Z"
    }
   },
   "outputs": [
    {
     "name": "stdout",
     "output_type": "stream",
     "text": [
      "Root Mean Squared Logarithmic Error (RMSLE): 0.2143008752606274\n"
     ]
    }
   ],
   "source": [
    "rmsle_score_dt = rmsle(y_val, y_pred_dt)\n",
    "print(f\"Root Mean Squared Logarithmic Error (RMSLE): {rmsle_score_dt}\")"
   ]
  },
  {
   "cell_type": "markdown",
   "metadata": {},
   "source": [
    "### XGBoost"
   ]
  },
  {
   "cell_type": "code",
   "execution_count": 35,
   "metadata": {
    "execution": {
     "iopub.execute_input": "2024-04-12T00:57:31.390336Z",
     "iopub.status.busy": "2024-04-12T00:57:31.390048Z",
     "iopub.status.idle": "2024-04-12T00:58:44.486021Z",
     "shell.execute_reply": "2024-04-12T00:58:44.485144Z",
     "shell.execute_reply.started": "2024-04-12T00:57:31.390312Z"
    }
   },
   "outputs": [],
   "source": [
    "xgboost_params = {\n",
    "    'max_depth': 10, \n",
    "    'verbosity': 0,\n",
    "    'random_state':42,\n",
    "    'booster': 'gbtree',\n",
    "    'n_estimators': 1137, \n",
    "    'tree_method': 'hist',\n",
    "    'min_child_weight': 7, \n",
    "    'grow_policy': 'lossguide', \n",
    "    'gamma': 0.03816426816838989, \n",
    "    'subsample': 0.486382907668344, \n",
    "    'objective': 'reg:squarederror',\n",
    "    'reg_lambda': 1.7487237399420372, \n",
    "    'reg_alpha': 0.013043045359306716,\n",
    "    'learning_rate': 0.011733966748427322, \n",
    "    'colsample_bytree': 0.5748511749872887, \n",
    "}\n",
    "model_xgb = xgb.XGBRegressor(**xgboost_params)\n",
    "\n",
    "scores = cross_val_score(model_xgb, X_train, y_train, cv=5, scoring='neg_root_mean_squared_error')"
   ]
  },
  {
   "cell_type": "code",
   "execution_count": 36,
   "metadata": {
    "execution": {
     "iopub.execute_input": "2024-04-12T00:58:44.488664Z",
     "iopub.status.busy": "2024-04-12T00:58:44.487505Z",
     "iopub.status.idle": "2024-04-12T00:58:59.695430Z",
     "shell.execute_reply": "2024-04-12T00:58:59.694367Z",
     "shell.execute_reply.started": "2024-04-12T00:58:44.488624Z"
    }
   },
   "outputs": [
    {
     "data": {
      "text/html": [
       "<style>#sk-container-id-3 {color: black;background-color: white;}#sk-container-id-3 pre{padding: 0;}#sk-container-id-3 div.sk-toggleable {background-color: white;}#sk-container-id-3 label.sk-toggleable__label {cursor: pointer;display: block;width: 100%;margin-bottom: 0;padding: 0.3em;box-sizing: border-box;text-align: center;}#sk-container-id-3 label.sk-toggleable__label-arrow:before {content: \"▸\";float: left;margin-right: 0.25em;color: #696969;}#sk-container-id-3 label.sk-toggleable__label-arrow:hover:before {color: black;}#sk-container-id-3 div.sk-estimator:hover label.sk-toggleable__label-arrow:before {color: black;}#sk-container-id-3 div.sk-toggleable__content {max-height: 0;max-width: 0;overflow: hidden;text-align: left;background-color: #f0f8ff;}#sk-container-id-3 div.sk-toggleable__content pre {margin: 0.2em;color: black;border-radius: 0.25em;background-color: #f0f8ff;}#sk-container-id-3 input.sk-toggleable__control:checked~div.sk-toggleable__content {max-height: 200px;max-width: 100%;overflow: auto;}#sk-container-id-3 input.sk-toggleable__control:checked~label.sk-toggleable__label-arrow:before {content: \"▾\";}#sk-container-id-3 div.sk-estimator input.sk-toggleable__control:checked~label.sk-toggleable__label {background-color: #d4ebff;}#sk-container-id-3 div.sk-label input.sk-toggleable__control:checked~label.sk-toggleable__label {background-color: #d4ebff;}#sk-container-id-3 input.sk-hidden--visually {border: 0;clip: rect(1px 1px 1px 1px);clip: rect(1px, 1px, 1px, 1px);height: 1px;margin: -1px;overflow: hidden;padding: 0;position: absolute;width: 1px;}#sk-container-id-3 div.sk-estimator {font-family: monospace;background-color: #f0f8ff;border: 1px dotted black;border-radius: 0.25em;box-sizing: border-box;margin-bottom: 0.5em;}#sk-container-id-3 div.sk-estimator:hover {background-color: #d4ebff;}#sk-container-id-3 div.sk-parallel-item::after {content: \"\";width: 100%;border-bottom: 1px solid gray;flex-grow: 1;}#sk-container-id-3 div.sk-label:hover label.sk-toggleable__label {background-color: #d4ebff;}#sk-container-id-3 div.sk-serial::before {content: \"\";position: absolute;border-left: 1px solid gray;box-sizing: border-box;top: 0;bottom: 0;left: 50%;z-index: 0;}#sk-container-id-3 div.sk-serial {display: flex;flex-direction: column;align-items: center;background-color: white;padding-right: 0.2em;padding-left: 0.2em;position: relative;}#sk-container-id-3 div.sk-item {position: relative;z-index: 1;}#sk-container-id-3 div.sk-parallel {display: flex;align-items: stretch;justify-content: center;background-color: white;position: relative;}#sk-container-id-3 div.sk-item::before, #sk-container-id-3 div.sk-parallel-item::before {content: \"\";position: absolute;border-left: 1px solid gray;box-sizing: border-box;top: 0;bottom: 0;left: 50%;z-index: -1;}#sk-container-id-3 div.sk-parallel-item {display: flex;flex-direction: column;z-index: 1;position: relative;background-color: white;}#sk-container-id-3 div.sk-parallel-item:first-child::after {align-self: flex-end;width: 50%;}#sk-container-id-3 div.sk-parallel-item:last-child::after {align-self: flex-start;width: 50%;}#sk-container-id-3 div.sk-parallel-item:only-child::after {width: 0;}#sk-container-id-3 div.sk-dashed-wrapped {border: 1px dashed gray;margin: 0 0.4em 0.5em 0.4em;box-sizing: border-box;padding-bottom: 0.4em;background-color: white;}#sk-container-id-3 div.sk-label label {font-family: monospace;font-weight: bold;display: inline-block;line-height: 1.2em;}#sk-container-id-3 div.sk-label-container {text-align: center;}#sk-container-id-3 div.sk-container {/* jupyter's `normalize.less` sets `[hidden] { display: none; }` but bootstrap.min.css set `[hidden] { display: none !important; }` so we also need the `!important` here to be able to override the default hidden behavior on the sphinx rendered scikit-learn.org. See: https://github.com/scikit-learn/scikit-learn/issues/21755 */display: inline-block !important;position: relative;}#sk-container-id-3 div.sk-text-repr-fallback {display: none;}</style><div id=\"sk-container-id-3\" class=\"sk-top-container\"><div class=\"sk-text-repr-fallback\"><pre>XGBRegressor(base_score=0.5, booster=&#x27;gbtree&#x27;, callbacks=None,\n",
       "             colsample_bylevel=1, colsample_bynode=1,\n",
       "             colsample_bytree=0.5748511749872887, early_stopping_rounds=None,\n",
       "             enable_categorical=False, eval_metric=None, feature_types=None,\n",
       "             gamma=0.03816426816838989, gpu_id=-1, grow_policy=&#x27;lossguide&#x27;,\n",
       "             importance_type=None, interaction_constraints=&#x27;&#x27;,\n",
       "             learning_rate=0.011733966748427322, max_bin=256,\n",
       "             max_cat_threshold=64, max_cat_to_onehot=4, max_delta_step=0,\n",
       "             max_depth=10, max_leaves=0, min_child_weight=7, missing=nan,\n",
       "             monotone_constraints=&#x27;()&#x27;, n_estimators=1137, n_jobs=0,\n",
       "             num_parallel_tree=1, predictor=&#x27;auto&#x27;, random_state=42, ...)</pre><b>In a Jupyter environment, please rerun this cell to show the HTML representation or trust the notebook. <br />On GitHub, the HTML representation is unable to render, please try loading this page with nbviewer.org.</b></div><div class=\"sk-container\" hidden><div class=\"sk-item\"><div class=\"sk-estimator sk-toggleable\"><input class=\"sk-toggleable__control sk-hidden--visually\" id=\"sk-estimator-id-3\" type=\"checkbox\" checked><label for=\"sk-estimator-id-3\" class=\"sk-toggleable__label sk-toggleable__label-arrow\">XGBRegressor</label><div class=\"sk-toggleable__content\"><pre>XGBRegressor(base_score=0.5, booster=&#x27;gbtree&#x27;, callbacks=None,\n",
       "             colsample_bylevel=1, colsample_bynode=1,\n",
       "             colsample_bytree=0.5748511749872887, early_stopping_rounds=None,\n",
       "             enable_categorical=False, eval_metric=None, feature_types=None,\n",
       "             gamma=0.03816426816838989, gpu_id=-1, grow_policy=&#x27;lossguide&#x27;,\n",
       "             importance_type=None, interaction_constraints=&#x27;&#x27;,\n",
       "             learning_rate=0.011733966748427322, max_bin=256,\n",
       "             max_cat_threshold=64, max_cat_to_onehot=4, max_delta_step=0,\n",
       "             max_depth=10, max_leaves=0, min_child_weight=7, missing=nan,\n",
       "             monotone_constraints=&#x27;()&#x27;, n_estimators=1137, n_jobs=0,\n",
       "             num_parallel_tree=1, predictor=&#x27;auto&#x27;, random_state=42, ...)</pre></div></div></div></div></div>"
      ],
      "text/plain": [
       "XGBRegressor(base_score=0.5, booster='gbtree', callbacks=None,\n",
       "             colsample_bylevel=1, colsample_bynode=1,\n",
       "             colsample_bytree=0.5748511749872887, early_stopping_rounds=None,\n",
       "             enable_categorical=False, eval_metric=None, feature_types=None,\n",
       "             gamma=0.03816426816838989, gpu_id=-1, grow_policy='lossguide',\n",
       "             importance_type=None, interaction_constraints='',\n",
       "             learning_rate=0.011733966748427322, max_bin=256,\n",
       "             max_cat_threshold=64, max_cat_to_onehot=4, max_delta_step=0,\n",
       "             max_depth=10, max_leaves=0, min_child_weight=7, missing=nan,\n",
       "             monotone_constraints='()', n_estimators=1137, n_jobs=0,\n",
       "             num_parallel_tree=1, predictor='auto', random_state=42, ...)"
      ]
     },
     "execution_count": 36,
     "metadata": {},
     "output_type": "execute_result"
    }
   ],
   "source": [
    "model_xgb.fit(X_train, y_train)"
   ]
  },
  {
   "cell_type": "code",
   "execution_count": 37,
   "metadata": {
    "execution": {
     "iopub.execute_input": "2024-04-12T00:58:59.697595Z",
     "iopub.status.busy": "2024-04-12T00:58:59.696900Z",
     "iopub.status.idle": "2024-04-12T00:59:00.136703Z",
     "shell.execute_reply": "2024-04-12T00:59:00.135801Z",
     "shell.execute_reply.started": "2024-04-12T00:58:59.697555Z"
    }
   },
   "outputs": [
    {
     "name": "stdout",
     "output_type": "stream",
     "text": [
      "Root Mean Squared Logarithmic Error (RMSLE): 0.1497329767075609\n"
     ]
    }
   ],
   "source": [
    "# Making predictions\n",
    "y_pred_xgb = model_xgb.predict(X_val)\n",
    "\n",
    "rmsle_score_xgb = rmsle(y_val, y_pred_xgb)\n",
    "print(f\"Root Mean Squared Logarithmic Error (RMSLE): {rmsle_score_xgb}\")"
   ]
  },
  {
   "cell_type": "code",
   "execution_count": 38,
   "metadata": {
    "execution": {
     "iopub.execute_input": "2024-04-12T01:08:49.834180Z",
     "iopub.status.busy": "2024-04-12T01:08:49.833795Z",
     "iopub.status.idle": "2024-04-12T01:08:49.850238Z",
     "shell.execute_reply": "2024-04-12T01:08:49.849404Z",
     "shell.execute_reply.started": "2024-04-12T01:08:49.834153Z"
    }
   },
   "outputs": [],
   "source": [
    "feature_importances_xgb = model_xgb.feature_importances_"
   ]
  },
  {
   "cell_type": "code",
   "execution_count": 39,
   "metadata": {
    "execution": {
     "iopub.execute_input": "2024-04-12T01:08:52.305589Z",
     "iopub.status.busy": "2024-04-12T01:08:52.304944Z",
     "iopub.status.idle": "2024-04-12T01:08:52.711869Z",
     "shell.execute_reply": "2024-04-12T01:08:52.711089Z",
     "shell.execute_reply.started": "2024-04-12T01:08:52.305559Z"
    }
   },
   "outputs": [
    {
     "data": {
      "image/png": "[encoded data removed]",
      "text/plain": [
       "<Figure size 720x432 with 1 Axes>"
      ]
     },
     "metadata": {
      "needs_background": "light"
     },
     "output_type": "display_data"
    }
   ],
   "source": [
    "plt.figure(figsize=(10, 6))\n",
    "feature_importance_series = pd.Series(feature_importances_xgb, index=X.columns)\n",
    "feature_importance_series.sort_values().plot(kind='barh')\n",
    "plt.title('Feature Importance from XGBoost')\n",
    "plt.xlabel('Feature Importance Score')\n",
    "plt.ylabel('Features')\n",
    "plt.show()"
   ]
  },
  {
   "cell_type": "markdown",
   "metadata": {},
   "source": [
    "### RandomForestRegressor"
   ]
  },
  {
   "cell_type": "code",
   "execution_count": 40,
   "metadata": {
    "execution": {
     "iopub.execute_input": "2024-04-12T00:59:00.138661Z",
     "iopub.status.busy": "2024-04-12T00:59:00.137769Z",
     "iopub.status.idle": "2024-04-12T01:03:39.234210Z",
     "shell.execute_reply": "2024-04-12T01:03:39.233102Z",
     "shell.execute_reply.started": "2024-04-12T00:59:00.138631Z"
    }
   },
   "outputs": [
    {
     "name": "stdout",
     "output_type": "stream",
     "text": [
      "Root Mean Squared Logarithmic Error (RMSLE): 0.15887247676502222\n"
     ]
    }
   ],
   "source": [
    "model = SVR(kernel='rbf')\n",
    "model.fit(X_train, y_train)\n",
    "\n",
    "y_pred = model.predict(X_val)\n",
    "\n",
    "\n",
    "rmsle = np.sqrt(mean_squared_log_error(y_val, y_pred))\n",
    "\n",
    "print(\"Root Mean Squared Logarithmic Error (RMSLE):\", rmsle)"
   ]
  },
  {
   "cell_type": "markdown",
   "metadata": {},
   "source": [
    "### Working with the test data(need to transform, so can be predicted)"
   ]
  },
  {
   "cell_type": "code",
   "execution_count": 41,
   "metadata": {
    "execution": {
     "iopub.execute_input": "2024-04-12T01:18:45.828131Z",
     "iopub.status.busy": "2024-04-12T01:18:45.827683Z",
     "iopub.status.idle": "2024-04-12T01:18:45.835783Z",
     "shell.execute_reply": "2024-04-12T01:18:45.834777Z",
     "shell.execute_reply.started": "2024-04-12T01:18:45.828101Z"
    }
   },
   "outputs": [],
   "source": [
    "# Perform label encoding on the test data\n",
    "le = LabelEncoder()\n",
    "test_df['Sex'] = le.fit_transform(test_df['Sex'])"
   ]
  },
  {
   "cell_type": "code",
   "execution_count": 44,
   "metadata": {
    "execution": {
     "iopub.execute_input": "2024-04-12T01:18:47.380357Z",
     "iopub.status.busy": "2024-04-12T01:18:47.379929Z",
     "iopub.status.idle": "2024-04-12T01:18:47.398728Z",
     "shell.execute_reply": "2024-04-12T01:18:47.397578Z",
     "shell.execute_reply.started": "2024-04-12T01:18:47.380307Z"
    }
   },
   "outputs": [
    {
     "data": {
      "text/html": [
       "<div>\n",
       "<style scoped>\n",
       "    .dataframe tbody tr th:only-of-type {\n",
       "        vertical-align: middle;\n",
       "    }\n",
       "\n",
       "    .dataframe tbody tr th {\n",
       "        vertical-align: top;\n",
       "    }\n",
       "\n",
       "    .dataframe thead th {\n",
       "        text-align: right;\n",
       "    }\n",
       "</style>\n",
       "<table border=\"1\" class=\"dataframe\">\n",
       "  <thead>\n",
       "    <tr style=\"text-align: right;\">\n",
       "      <th></th>\n",
       "      <th>Sex</th>\n",
       "      <th>Length</th>\n",
       "      <th>Diameter</th>\n",
       "      <th>Height</th>\n",
       "      <th>Whole weight</th>\n",
       "      <th>Whole weight.1</th>\n",
       "      <th>Whole weight.2</th>\n",
       "      <th>Shell weight</th>\n",
       "    </tr>\n",
       "    <tr>\n",
       "      <th>id</th>\n",
       "      <th></th>\n",
       "      <th></th>\n",
       "      <th></th>\n",
       "      <th></th>\n",
       "      <th></th>\n",
       "      <th></th>\n",
       "      <th></th>\n",
       "      <th></th>\n",
       "    </tr>\n",
       "  </thead>\n",
       "  <tbody>\n",
       "    <tr>\n",
       "      <th>90615</th>\n",
       "      <td>2</td>\n",
       "      <td>0.645</td>\n",
       "      <td>0.475</td>\n",
       "      <td>0.155</td>\n",
       "      <td>1.2380</td>\n",
       "      <td>0.6185</td>\n",
       "      <td>0.3125</td>\n",
       "      <td>0.3005</td>\n",
       "    </tr>\n",
       "    <tr>\n",
       "      <th>90616</th>\n",
       "      <td>2</td>\n",
       "      <td>0.580</td>\n",
       "      <td>0.460</td>\n",
       "      <td>0.160</td>\n",
       "      <td>0.9830</td>\n",
       "      <td>0.4785</td>\n",
       "      <td>0.2195</td>\n",
       "      <td>0.2750</td>\n",
       "    </tr>\n",
       "    <tr>\n",
       "      <th>90617</th>\n",
       "      <td>2</td>\n",
       "      <td>0.560</td>\n",
       "      <td>0.420</td>\n",
       "      <td>0.140</td>\n",
       "      <td>0.8395</td>\n",
       "      <td>0.3525</td>\n",
       "      <td>0.1845</td>\n",
       "      <td>0.2405</td>\n",
       "    </tr>\n",
       "    <tr>\n",
       "      <th>90618</th>\n",
       "      <td>2</td>\n",
       "      <td>0.570</td>\n",
       "      <td>0.490</td>\n",
       "      <td>0.145</td>\n",
       "      <td>0.8740</td>\n",
       "      <td>0.3525</td>\n",
       "      <td>0.1865</td>\n",
       "      <td>0.2350</td>\n",
       "    </tr>\n",
       "    <tr>\n",
       "      <th>90619</th>\n",
       "      <td>1</td>\n",
       "      <td>0.415</td>\n",
       "      <td>0.325</td>\n",
       "      <td>0.110</td>\n",
       "      <td>0.3580</td>\n",
       "      <td>0.1575</td>\n",
       "      <td>0.0670</td>\n",
       "      <td>0.1050</td>\n",
       "    </tr>\n",
       "    <tr>\n",
       "      <th>...</th>\n",
       "      <td>...</td>\n",
       "      <td>...</td>\n",
       "      <td>...</td>\n",
       "      <td>...</td>\n",
       "      <td>...</td>\n",
       "      <td>...</td>\n",
       "      <td>...</td>\n",
       "      <td>...</td>\n",
       "    </tr>\n",
       "    <tr>\n",
       "      <th>151021</th>\n",
       "      <td>1</td>\n",
       "      <td>0.345</td>\n",
       "      <td>0.260</td>\n",
       "      <td>0.085</td>\n",
       "      <td>0.1775</td>\n",
       "      <td>0.0735</td>\n",
       "      <td>0.0265</td>\n",
       "      <td>0.0500</td>\n",
       "    </tr>\n",
       "    <tr>\n",
       "      <th>151022</th>\n",
       "      <td>0</td>\n",
       "      <td>0.525</td>\n",
       "      <td>0.410</td>\n",
       "      <td>0.145</td>\n",
       "      <td>0.8445</td>\n",
       "      <td>0.3885</td>\n",
       "      <td>0.1670</td>\n",
       "      <td>0.2050</td>\n",
       "    </tr>\n",
       "    <tr>\n",
       "      <th>151023</th>\n",
       "      <td>1</td>\n",
       "      <td>0.590</td>\n",
       "      <td>0.440</td>\n",
       "      <td>0.155</td>\n",
       "      <td>1.1220</td>\n",
       "      <td>0.3930</td>\n",
       "      <td>0.2000</td>\n",
       "      <td>0.2650</td>\n",
       "    </tr>\n",
       "    <tr>\n",
       "      <th>151024</th>\n",
       "      <td>0</td>\n",
       "      <td>0.660</td>\n",
       "      <td>0.525</td>\n",
       "      <td>0.190</td>\n",
       "      <td>1.4935</td>\n",
       "      <td>0.5885</td>\n",
       "      <td>0.3575</td>\n",
       "      <td>0.4350</td>\n",
       "    </tr>\n",
       "    <tr>\n",
       "      <th>151025</th>\n",
       "      <td>0</td>\n",
       "      <td>0.430</td>\n",
       "      <td>0.340</td>\n",
       "      <td>0.120</td>\n",
       "      <td>0.4150</td>\n",
       "      <td>0.1525</td>\n",
       "      <td>0.0910</td>\n",
       "      <td>0.0905</td>\n",
       "    </tr>\n",
       "  </tbody>\n",
       "</table>\n",
       "<p>60411 rows × 8 columns</p>\n",
       "</div>"
      ],
      "text/plain": [
       "        Sex  Length  Diameter  Height  Whole weight  Whole weight.1  \\\n",
       "id                                                                    \n",
       "90615     2   0.645     0.475   0.155        1.2380          0.6185   \n",
       "90616     2   0.580     0.460   0.160        0.9830          0.4785   \n",
       "90617     2   0.560     0.420   0.140        0.8395          0.3525   \n",
       "90618     2   0.570     0.490   0.145        0.8740          0.3525   \n",
       "90619     1   0.415     0.325   0.110        0.3580          0.1575   \n",
       "...     ...     ...       ...     ...           ...             ...   \n",
       "151021    1   0.345     0.260   0.085        0.1775          0.0735   \n",
       "151022    0   0.525     0.410   0.145        0.8445          0.3885   \n",
       "151023    1   0.590     0.440   0.155        1.1220          0.3930   \n",
       "151024    0   0.660     0.525   0.190        1.4935          0.5885   \n",
       "151025    0   0.430     0.340   0.120        0.4150          0.1525   \n",
       "\n",
       "        Whole weight.2  Shell weight  \n",
       "id                                    \n",
       "90615           0.3125        0.3005  \n",
       "90616           0.2195        0.2750  \n",
       "90617           0.1845        0.2405  \n",
       "90618           0.1865        0.2350  \n",
       "90619           0.0670        0.1050  \n",
       "...                ...           ...  \n",
       "151021          0.0265        0.0500  \n",
       "151022          0.1670        0.2050  \n",
       "151023          0.2000        0.2650  \n",
       "151024          0.3575        0.4350  \n",
       "151025          0.0910        0.0905  \n",
       "\n",
       "[60411 rows x 8 columns]"
      ]
     },
     "execution_count": 44,
     "metadata": {},
     "output_type": "execute_result"
    }
   ],
   "source": [
    "test_df"
   ]
  },
  {
   "cell_type": "code",
   "execution_count": 46,
   "metadata": {},
   "outputs": [
    {
     "data": {
      "text/html": [
       "<div>\n",
       "<style scoped>\n",
       "    .dataframe tbody tr th:only-of-type {\n",
       "        vertical-align: middle;\n",
       "    }\n",
       "\n",
       "    .dataframe tbody tr th {\n",
       "        vertical-align: top;\n",
       "    }\n",
       "\n",
       "    .dataframe thead th {\n",
       "        text-align: right;\n",
       "    }\n",
       "</style>\n",
       "<table border=\"1\" class=\"dataframe\">\n",
       "  <thead>\n",
       "    <tr style=\"text-align: right;\">\n",
       "      <th></th>\n",
       "      <th>Length_log</th>\n",
       "      <th>Diameter_log</th>\n",
       "      <th>Height_log</th>\n",
       "      <th>Whole weight_log</th>\n",
       "      <th>Whole weight.1_log</th>\n",
       "      <th>Whole weight.2_log</th>\n",
       "      <th>Shell weight_log</th>\n",
       "      <th>Sex</th>\n",
       "    </tr>\n",
       "    <tr>\n",
       "      <th>id</th>\n",
       "      <th></th>\n",
       "      <th></th>\n",
       "      <th></th>\n",
       "      <th></th>\n",
       "      <th></th>\n",
       "      <th></th>\n",
       "      <th></th>\n",
       "      <th></th>\n",
       "    </tr>\n",
       "  </thead>\n",
       "  <tbody>\n",
       "    <tr>\n",
       "      <th>90615</th>\n",
       "      <td>0.497740</td>\n",
       "      <td>0.388658</td>\n",
       "      <td>0.144100</td>\n",
       "      <td>0.805583</td>\n",
       "      <td>0.481500</td>\n",
       "      <td>0.271934</td>\n",
       "      <td>0.262749</td>\n",
       "      <td>2</td>\n",
       "    </tr>\n",
       "    <tr>\n",
       "      <th>90616</th>\n",
       "      <td>0.457425</td>\n",
       "      <td>0.378436</td>\n",
       "      <td>0.148420</td>\n",
       "      <td>0.684611</td>\n",
       "      <td>0.391028</td>\n",
       "      <td>0.198441</td>\n",
       "      <td>0.242946</td>\n",
       "      <td>2</td>\n",
       "    </tr>\n",
       "    <tr>\n",
       "      <th>90617</th>\n",
       "      <td>0.444686</td>\n",
       "      <td>0.350657</td>\n",
       "      <td>0.131028</td>\n",
       "      <td>0.609494</td>\n",
       "      <td>0.301955</td>\n",
       "      <td>0.169321</td>\n",
       "      <td>0.215515</td>\n",
       "      <td>2</td>\n",
       "    </tr>\n",
       "    <tr>\n",
       "      <th>90618</th>\n",
       "      <td>0.451076</td>\n",
       "      <td>0.398776</td>\n",
       "      <td>0.135405</td>\n",
       "      <td>0.628075</td>\n",
       "      <td>0.301955</td>\n",
       "      <td>0.171008</td>\n",
       "      <td>0.211071</td>\n",
       "      <td>2</td>\n",
       "    </tr>\n",
       "    <tr>\n",
       "      <th>90619</th>\n",
       "      <td>0.347130</td>\n",
       "      <td>0.281412</td>\n",
       "      <td>0.104360</td>\n",
       "      <td>0.306013</td>\n",
       "      <td>0.146263</td>\n",
       "      <td>0.064851</td>\n",
       "      <td>0.099845</td>\n",
       "      <td>1</td>\n",
       "    </tr>\n",
       "  </tbody>\n",
       "</table>\n",
       "</div>"
      ],
      "text/plain": [
       "       Length_log  Diameter_log  Height_log  Whole weight_log  \\\n",
       "id                                                              \n",
       "90615    0.497740      0.388658    0.144100          0.805583   \n",
       "90616    0.457425      0.378436    0.148420          0.684611   \n",
       "90617    0.444686      0.350657    0.131028          0.609494   \n",
       "90618    0.451076      0.398776    0.135405          0.628075   \n",
       "90619    0.347130      0.281412    0.104360          0.306013   \n",
       "\n",
       "       Whole weight.1_log  Whole weight.2_log  Shell weight_log  Sex  \n",
       "id                                                                    \n",
       "90615            0.481500            0.271934          0.262749    2  \n",
       "90616            0.391028            0.198441          0.242946    2  \n",
       "90617            0.301955            0.169321          0.215515    2  \n",
       "90618            0.301955            0.171008          0.211071    2  \n",
       "90619            0.146263            0.064851          0.099845    1  "
      ]
     },
     "execution_count": 46,
     "metadata": {},
     "output_type": "execute_result"
    }
   ],
   "source": [
    "columns_to_check = ['Length', 'Diameter', 'Height', 'Whole weight', 'Whole weight.1', 'Whole weight.2', 'Shell weight']\n",
    "\n",
    "# Additional columns to include without transformation\n",
    "additional_columns = ['Sex']\n",
    "\n",
    "# Apply log transformation for specified columns\n",
    "log_test_df = pd.DataFrame()\n",
    "for column in columns_to_check:\n",
    "    log_test_df[column + '_log'] = np.log1p(test_df[column])\n",
    "\n",
    "# Include additional columns from the original DataFrame\n",
    "log_test_df[additional_columns] = test_df[additional_columns]\n",
    "\n",
    "# Verify the resulting DataFrame\n",
    "log_test_df.head()"
   ]
  },
  {
   "cell_type": "code",
   "execution_count": 47,
   "metadata": {
    "execution": {
     "iopub.execute_input": "2024-04-12T01:18:55.286778Z",
     "iopub.status.busy": "2024-04-12T01:18:55.286411Z",
     "iopub.status.idle": "2024-04-12T01:18:56.789859Z",
     "shell.execute_reply": "2024-04-12T01:18:56.788988Z",
     "shell.execute_reply.started": "2024-04-12T01:18:55.286752Z"
    }
   },
   "outputs": [],
   "source": [
    "y_pred_test = model_xgb.predict(log_test_df)\n",
    "y_pred_test_rounded = np.round(y_pred_test).astype(int)"
   ]
  },
  {
   "cell_type": "code",
   "execution_count": 48,
   "metadata": {
    "execution": {
     "iopub.execute_input": "2024-04-12T01:18:57.991677Z",
     "iopub.status.busy": "2024-04-12T01:18:57.990705Z",
     "iopub.status.idle": "2024-04-12T01:18:57.997953Z",
     "shell.execute_reply": "2024-04-12T01:18:57.997047Z",
     "shell.execute_reply.started": "2024-04-12T01:18:57.991643Z"
    }
   },
   "outputs": [
    {
     "data": {
      "text/plain": [
       "array([ 9.747211,  9.637994,  9.832306, ..., 12.712111, 13.386197,\n",
       "        8.519464], dtype=float32)"
      ]
     },
     "execution_count": 48,
     "metadata": {},
     "output_type": "execute_result"
    }
   ],
   "source": [
    "y_pred_test"
   ]
  },
  {
   "cell_type": "code",
   "execution_count": 49,
   "metadata": {
    "execution": {
     "iopub.execute_input": "2024-04-12T01:19:03.641313Z",
     "iopub.status.busy": "2024-04-12T01:19:03.640942Z",
     "iopub.status.idle": "2024-04-12T01:19:03.647168Z",
     "shell.execute_reply": "2024-04-12T01:19:03.645954Z",
     "shell.execute_reply.started": "2024-04-12T01:19:03.641287Z"
    }
   },
   "outputs": [],
   "source": [
    "predictions_df = pd.DataFrame({\n",
    "    'id': test_df.index,\n",
    "    'Rings': y_pred_test\n",
    "})"
   ]
  },
  {
   "cell_type": "code",
   "execution_count": 50,
   "metadata": {
    "execution": {
     "iopub.execute_input": "2024-04-12T01:19:11.084352Z",
     "iopub.status.busy": "2024-04-12T01:19:11.083381Z",
     "iopub.status.idle": "2024-04-12T01:19:11.186827Z",
     "shell.execute_reply": "2024-04-12T01:19:11.185835Z",
     "shell.execute_reply.started": "2024-04-12T01:19:11.084302Z"
    }
   },
   "outputs": [],
   "source": [
    "predictions_df.to_csv('submission_final.csv', index=False)"
   ]
  }
 ],
 "metadata": {
  "kaggle": {
   "accelerator": "none",
   "dataSources": [
    {
     "databundleVersionId": 8096274,
     "sourceId": 72489,
     "sourceType": "competition"
    }
   ],
   "dockerImageVersionId": 30684,
   "isGpuEnabled": false,
   "isInternetEnabled": true,
   "language": "python",
   "sourceType": "notebook"
  },
  "kernelspec": {
   "display_name": "Python 3 (ipykernel)",
   "language": "python",
   "name": "python3"
  },
  "language_info": {
   "codemirror_mode": {
    "name": "ipython",
    "version": 3
   },
   "file_extension": ".py",
   "mimetype": "text/x-python",
   "name": "python",
   "nbconvert_exporter": "python",
   "pygments_lexer": "ipython3",
   "version": "3.9.12"
  }
 },
 "nbformat": 4,
 "nbformat_minor": 4
}
